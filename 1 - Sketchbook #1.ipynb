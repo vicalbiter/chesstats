{
 "cells": [
  {
   "cell_type": "code",
   "execution_count": 1,
   "id": "0013c77d",
   "metadata": {},
   "outputs": [],
   "source": [
    "import nest_asyncio\n",
    "nest_asyncio.apply()\n",
    "\n",
    "import os\n",
    "import json\n",
    "import pandas as pd"
   ]
  },
  {
   "cell_type": "code",
   "execution_count": 75,
   "id": "4f31b752",
   "metadata": {},
   "outputs": [],
   "source": [
    "%run collect.py\n",
    "%run process.py"
   ]
  },
  {
   "cell_type": "code",
   "execution_count": 3,
   "id": "eaf87a21",
   "metadata": {},
   "outputs": [],
   "source": [
    "members = get_list_of_club_members('chess-school')"
   ]
  },
  {
   "cell_type": "code",
   "execution_count": 4,
   "id": "8b746bb8",
   "metadata": {},
   "outputs": [
    {
     "data": {
      "text/plain": [
       "{'username': 'aayushdalal', 'joined': 1616389269}"
      ]
     },
     "execution_count": 4,
     "metadata": {},
     "output_type": "execute_result"
    }
   ],
   "source": [
    "members[1000]"
   ]
  },
  {
   "cell_type": "code",
   "execution_count": 85,
   "id": "bda94035",
   "metadata": {},
   "outputs": [
    {
     "data": {
      "text/plain": [
       "53718"
      ]
     },
     "execution_count": 85,
     "metadata": {},
     "output_type": "execute_result"
    }
   ],
   "source": [
    "len(members)"
   ]
  },
  {
   "cell_type": "code",
   "execution_count": 35,
   "id": "8410e876",
   "metadata": {},
   "outputs": [
    {
     "name": "stdout",
     "output_type": "stream",
     "text": [
      "Progress: 500 of 500\r"
     ]
    }
   ],
   "source": [
    "members_stats = get_club_members_stats(members[0:500])"
   ]
  },
  {
   "cell_type": "code",
   "execution_count": 109,
   "id": "809ed3a5",
   "metadata": {},
   "outputs": [
    {
     "data": {
      "text/plain": [
       "{'last': {'rating': 1182, 'date': 1349196888, 'rd': 290},\n",
       " 'record': {'win': 0, 'loss': 1, 'draw': 0}}"
      ]
     },
     "execution_count": 109,
     "metadata": {},
     "output_type": "execute_result"
    }
   ],
   "source": [
    "members_stats[0]['stats']['chess_rapid']"
   ]
  },
  {
   "cell_type": "code",
   "execution_count": 8,
   "id": "45f91a4a",
   "metadata": {},
   "outputs": [],
   "source": [
    "import json\n",
    "\n",
    "#with open('test.txt', 'w') as outfile:\n",
    "#    json.dump(members_stats, outfile)\n",
    "    \n",
    "with open('stats_db_test/members_stats_chess-school_0_9.txt') as json_file:\n",
    "    test_read1 = json.load(json_file)\n",
    "    \n",
    "with open('stats_db_test/members_stats_chess-school_10_19.txt') as json_file:\n",
    "    test_read2 = json.load(json_file)\n",
    "    \n",
    "    \n",
    "read1 = build_stats_simplified_table(test_read1)\n",
    "read2 = build_stats_simplified_table(test_read2)"
   ]
  },
  {
   "cell_type": "code",
   "execution_count": 19,
   "id": "23c9cf74",
   "metadata": {},
   "outputs": [
    {
     "data": {
      "text/plain": [
       "[{'username': '-donovan-', 'rating_rapid': 1182, 'rating_blitz': 1201},\n",
       " {'username': '-gollum-', 'rating_rapid': 1567, 'rating_blitz': 1446},\n",
       " {'username': '0-alexiskenyi-0', 'rating_rapid': 1077, 'rating_blitz': 1648},\n",
       " {'username': '0-bard0', 'rating_rapid': None, 'rating_blitz': None},\n",
       " {'username': '0000000p', 'rating_rapid': 681, 'rating_blitz': 440},\n",
       " {'username': '0000ps', 'rating_rapid': 1283, 'rating_blitz': 1562},\n",
       " {'username': '000riteshranjan', 'rating_rapid': 723, 'rating_blitz': 549},\n",
       " {'username': '00110010', 'rating_rapid': 833, 'rating_blitz': 604},\n",
       " {'username': '0018akhil', 'rating_rapid': 1156, 'rating_blitz': 745},\n",
       " {'username': '002akshay', 'rating_rapid': 1518, 'rating_blitz': 1452},\n",
       " {'username': '003vaibhav', 'rating_rapid': None, 'rating_blitz': 659},\n",
       " {'username': '0073ankit', 'rating_rapid': 897, 'rating_blitz': 637},\n",
       " {'username': '007hritik', 'rating_rapid': 398, 'rating_blitz': 607},\n",
       " {'username': '007pandas', 'rating_rapid': 1229, 'rating_blitz': 430},\n",
       " {'username': '007tumaverick', 'rating_rapid': 550, 'rating_blitz': 238},\n",
       " {'username': '007wasim', 'rating_rapid': 905, 'rating_blitz': 1562},\n",
       " {'username': '008nil', 'rating_rapid': 524, 'rating_blitz': 751},\n",
       " {'username': '0092678', 'rating_rapid': 1089, 'rating_blitz': 458}]"
      ]
     },
     "execution_count": 19,
     "metadata": {},
     "output_type": "execute_result"
    }
   ],
   "source": [
    "total_list = read1 + read2\n",
    "total_list"
   ]
  },
  {
   "cell_type": "code",
   "execution_count": 61,
   "id": "e9910470",
   "metadata": {},
   "outputs": [],
   "source": [
    "#members_stats[0]['stats']"
   ]
  },
  {
   "cell_type": "code",
   "execution_count": 85,
   "id": "61da0f74",
   "metadata": {},
   "outputs": [],
   "source": [
    "user_table = build_stats_simplified_table(members_stats)"
   ]
  },
  {
   "cell_type": "code",
   "execution_count": 86,
   "id": "1a3bb20f",
   "metadata": {},
   "outputs": [
    {
     "data": {
      "text/plain": [
       "[{'username': '-donovan-', 'rating_rapid': 1182, 'rating_blitz': 1201},\n",
       " {'username': '-gollum-', 'rating_rapid': 1567, 'rating_blitz': 1446},\n",
       " {'username': '0-alexiskenyi-0', 'rating_rapid': 1077, 'rating_blitz': 1648},\n",
       " {'username': '0-bard0', 'rating_rapid': None, 'rating_blitz': None},\n",
       " {'username': '0000000p', 'rating_rapid': 681, 'rating_blitz': 440}]"
      ]
     },
     "execution_count": 86,
     "metadata": {},
     "output_type": "execute_result"
    }
   ],
   "source": [
    "user_table[0:5]"
   ]
  },
  {
   "cell_type": "code",
   "execution_count": 29,
   "id": "24e9aaf3",
   "metadata": {},
   "outputs": [],
   "source": [
    "import pandas as pd"
   ]
  },
  {
   "cell_type": "code",
   "execution_count": 87,
   "id": "f77b56b6",
   "metadata": {},
   "outputs": [],
   "source": [
    "df = pd.DataFrame(user_table)"
   ]
  },
  {
   "cell_type": "code",
   "execution_count": 93,
   "id": "977ca235",
   "metadata": {},
   "outputs": [
    {
     "data": {
      "text/plain": [
       "array([[<AxesSubplot:title={'center':'rating_rapid'}>,\n",
       "        <AxesSubplot:title={'center':'rating_blitz'}>]], dtype=object)"
      ]
     },
     "execution_count": 93,
     "metadata": {},
     "output_type": "execute_result"
    },
    {
     "data": {
      "image/png": "[encoded data removed]",
      "text/plain": [
       "<Figure size 432x288 with 2 Axes>"
      ]
     },
     "metadata": {
      "needs_background": "light"
     },
     "output_type": "display_data"
    }
   ],
   "source": [
    "df.hist(bins=10)"
   ]
  },
  {
   "cell_type": "code",
   "execution_count": 6,
   "id": "512db458",
   "metadata": {},
   "outputs": [],
   "source": [
    "import os\n",
    "import json\n",
    "import pandas as pd\n",
    "\n",
    "total_stats = []\n",
    "for file in os.listdir('stats_db'):\n",
    "    with open('stats_db/' + file) as json_file:\n",
    "        read = json.load(json_file)\n",
    "    total_stats += read"
   ]
  },
  {
   "cell_type": "code",
   "execution_count": 10,
   "id": "7c92978d",
   "metadata": {},
   "outputs": [],
   "source": [
    "total_stats = read_from_files('stats_db')"
   ]
  },
  {
   "cell_type": "code",
   "execution_count": 11,
   "id": "dd8fd9fd",
   "metadata": {},
   "outputs": [],
   "source": [
    "user_table = build_stats_simplified_table(total_stats)\n",
    "df = pd.DataFrame(user_table)"
   ]
  },
  {
   "cell_type": "code",
   "execution_count": 12,
   "id": "c804db10",
   "metadata": {},
   "outputs": [
    {
     "data": {
      "text/plain": [
       "<AxesSubplot:>"
      ]
     },
     "execution_count": 12,
     "metadata": {},
     "output_type": "execute_result"
    },
    {
     "data": {
      "image/png": "[encoded data removed]",
      "text/plain": [
       "<Figure size 432x288 with 1 Axes>"
      ]
     },
     "metadata": {
      "needs_background": "light"
     },
     "output_type": "display_data"
    }
   ],
   "source": [
    "df['rating_blitz'].hist(bins=30, alpha = 1.0)\n",
    "df['rating_rapid'].hist(bins=30, alpha = 0.7)"
   ]
  },
  {
   "cell_type": "code",
   "execution_count": 8,
   "id": "66b8caba",
   "metadata": {},
   "outputs": [
    {
     "data": {
      "text/plain": [
       "array([[<AxesSubplot:title={'center':'rating_rapid'}>,\n",
       "        <AxesSubplot:title={'center':'rating_blitz'}>]], dtype=object)"
      ]
     },
     "execution_count": 8,
     "metadata": {},
     "output_type": "execute_result"
    },
    {
     "data": {
      "image/png": "[encoded data removed]",
      "text/plain": [
       "<Figure size 432x288 with 2 Axes>"
      ]
     },
     "metadata": {
      "needs_background": "light"
     },
     "output_type": "display_data"
    }
   ],
   "source": [
    "df.hist(bins=30)"
   ]
  },
  {
   "cell_type": "code",
   "execution_count": 10,
   "id": "d1ef1a07",
   "metadata": {},
   "outputs": [
    {
     "name": "stderr",
     "output_type": "stream",
     "text": [
      "C:\\Users\\Vicente\\AppData\\Local\\Temp/ipykernel_13916/3698961737.py:1: FutureWarning: Dropping of nuisance columns in DataFrame reductions (with 'numeric_only=None') is deprecated; in a future version this will raise TypeError.  Select only valid columns before calling the reduction.\n",
      "  df.mean()\n"
     ]
    },
    {
     "data": {
      "text/plain": [
       "rating_rapid    1078.343994\n",
       "rating_blitz     971.799094\n",
       "dtype: float64"
      ]
     },
     "execution_count": 10,
     "metadata": {},
     "output_type": "execute_result"
    }
   ],
   "source": [
    "df.mean()"
   ]
  },
  {
   "cell_type": "code",
   "execution_count": 23,
   "id": "2de58598",
   "metadata": {},
   "outputs": [
    {
     "data": {
      "text/plain": [
       "'deepeshjangid'"
      ]
     },
     "execution_count": 23,
     "metadata": {},
     "output_type": "execute_result"
    }
   ],
   "source": [
    "user_table[5000]['username']"
   ]
  },
  {
   "cell_type": "code",
   "execution_count": 138,
   "id": "ced96a92",
   "metadata": {},
   "outputs": [],
   "source": [
    "response = get_player_games_by_month('vicalbiter', year='2021', month='08')"
   ]
  },
  {
   "cell_type": "code",
   "execution_count": 139,
   "id": "6b9f38e9",
   "metadata": {},
   "outputs": [
    {
     "data": {
      "text/plain": [
       "[{'url': 'https://www.chess.com/game/live/23183413127',\n",
       "  'pgn': '[Event \"Live Chess\"]\\n[Site \"Chess.com\"]\\n[Date \"2021.08.20\"]\\n[Round \"-\"]\\n[White \"VicAlbiter\"]\\n[Black \"rempog_krna\"]\\n[Result \"0-1\"]\\n[CurrentPosition \"r1bqk2r/ppp2ppp/2n1p3/8/Q1BPn3/2P1PN2/P2B1PPP/R4RK1 w kq -\"]\\n[Timezone \"UTC\"]\\n[ECO \"D20\"]\\n[ECOUrl \"https://www.chess.com/openings/Queens-Gambit-Accepted-3.Nc3-Nf6\"]\\n[UTCDate \"2021.08.20\"]\\n[UTCTime \"07:26:46\"]\\n[WhiteElo \"1118\"]\\n[BlackElo \"1185\"]\\n[TimeControl \"900+10\"]\\n[Termination \"rempog_krna won - game abandoned\"]\\n[StartTime \"07:26:46\"]\\n[EndDate \"2021.08.20\"]\\n[EndTime \"07:36:37\"]\\n[Link \"https://www.chess.com/game/live/23183413127\"]\\n\\n1. d4 {[%clk 0:15:04.3]} 1... d5 {[%clk 0:15:00.1]} 2. c4 {[%clk 0:15:12]} 2... Nf6 {[%clk 0:15:04.7]} 3. Nc3 {[%clk 0:15:17.8]} 3... dxc4 {[%clk 0:15:08.1]} 4. e3 {[%clk 0:15:25.5]} 4... Nc6 {[%clk 0:15:04.2]} 5. Bxc4 {[%clk 0:15:31]} 5... e6 {[%clk 0:15:03.9]} 6. Nf3 {[%clk 0:15:28.1]} 6... Bb4 {[%clk 0:15:09.5]} 7. O-O {[%clk 0:15:27.9]} 7... Bxc3 {[%clk 0:15:15.6]} 8. bxc3 {[%clk 0:15:35.3]} 8... Ne4 {[%clk 0:15:22.4]} 9. Bd2 {[%clk 0:13:55.2]} 9... Na5 {[%clk 0:15:23.8]} 10. Qa4+ {[%clk 0:12:48.2]} 10... Nc6 {[%clk 0:15:20.9]} 0-1\\n',\n",
       "  'time_control': '900+10',\n",
       "  'end_time': 1629444997,\n",
       "  'rated': True,\n",
       "  'accuracies': {'white': 96.73, 'black': 7.16},\n",
       "  'fen': 'r1bqk2r/ppp2ppp/2n1p3/8/Q1BPn3/2P1PN2/P2B1PPP/R4RK1 w kq -',\n",
       "  'time_class': 'rapid',\n",
       "  'rules': 'chess',\n",
       "  'white': {'rating': 1118,\n",
       "   'result': 'abandoned',\n",
       "   '@id': 'https://api.chess.com/pub/player/vicalbiter',\n",
       "   'username': 'VicAlbiter'},\n",
       "  'black': {'rating': 1185,\n",
       "   'result': 'win',\n",
       "   '@id': 'https://api.chess.com/pub/player/rempog_krna',\n",
       "   'username': 'rempog_krna'}},\n",
       " {'url': 'https://www.chess.com/game/live/23221851999',\n",
       "  'pgn': '[Event \"Live Chess\"]\\n[Site \"Chess.com\"]\\n[Date \"2021.08.20\"]\\n[Round \"-\"]\\n[White \"vishal26111111\"]\\n[Black \"VicAlbiter\"]\\n[Result \"0-1\"]\\n[CurrentPosition \"8/8/1b3B2/1P4p1/5kP1/4pp2/8/5K2 w - -\"]\\n[Timezone \"UTC\"]\\n[ECO \"B33\"]\\n[ECOUrl \"https://www.chess.com/openings/Sicilian-Defense-Open-Pelikan-and-Sveshnikov-Exchange-Variation\"]\\n[UTCDate \"2021.08.20\"]\\n[UTCTime \"18:07:57\"]\\n[WhiteElo \"1001\"]\\n[BlackElo \"1133\"]\\n[TimeControl \"900+10\"]\\n[Termination \"VicAlbiter won by resignation\"]\\n[StartTime \"18:07:57\"]\\n[EndDate \"2021.08.20\"]\\n[EndTime \"18:42:12\"]\\n[Link \"https://www.chess.com/game/live/23221851999\"]\\n\\n1. e4 {[%clk 0:15:10]} 1... c5 {[%clk 0:15:08.2]} 2. Nf3 {[%clk 0:15:17.1]} 2... Nc6 {[%clk 0:15:15.8]} 3. d4 {[%clk 0:15:21.9]} 3... cxd4 {[%clk 0:15:23.9]} 4. Nxd4 {[%clk 0:15:29.8]} 4... Nf6 {[%clk 0:15:32]} 5. Nc3 {[%clk 0:15:33]} 5... e5 {[%clk 0:15:38.2]} 6. Nxc6 {[%clk 0:15:39.8]} 6... bxc6 {[%clk 0:15:01.1]} 7. Bc4 {[%clk 0:15:43.2]} 7... Nxe4 {[%clk 0:14:26.7]} 8. Nxe4 {[%clk 0:15:48.4]} 8... d5 {[%clk 0:14:35.3]} 9. Bxd5 {[%clk 0:15:27.7]} 9... cxd5 {[%clk 0:14:42.8]} 10. Nc3 {[%clk 0:15:09.6]} 10... d4 {[%clk 0:14:05.9]} 11. Ne4 {[%clk 0:15:13.9]} 11... Bb7 {[%clk 0:13:17.2]} 12. f3 {[%clk 0:14:59.2]} 12... Bxe4 {[%clk 0:12:45.9]} 13. fxe4 {[%clk 0:15:04.4]} 13... Qh4+ {[%clk 0:12:52.2]} 14. Kf1 {[%clk 0:15:04.3]} 14... Qxe4 {[%clk 0:12:58.3]} 15. Bd2 {[%clk 0:14:01.4]} 15... Be7 {[%clk 0:11:30.3]} 16. c3 {[%clk 0:14:02.6]} 16... O-O-O {[%clk 0:11:14.9]} 17. cxd4 {[%clk 0:14:08.7]} 17... Rxd4 {[%clk 0:11:03.7]} 18. Rc1+ {[%clk 0:14:03]} 18... Kb8 {[%clk 0:10:24.6]} 19. Qb3+ {[%clk 0:14:09]} 19... Ka8 {[%clk 0:09:47.1]} 20. Be3 {[%clk 0:11:56.8]} 20... Qd3+ {[%clk 0:08:52.4]} 21. Qxd3 {[%clk 0:11:52.1]} 21... Rxd3 {[%clk 0:09:01.1]} 22. Ke2 {[%clk 0:11:53.6]} 22... Rhd8 {[%clk 0:08:15.9]} 23. Rc7 {[%clk 0:11:15.1]} 23... R3d7 {[%clk 0:07:25.5]} 24. Rxd7 {[%clk 0:10:18.3]} 24... Rxd7 {[%clk 0:07:33.4]} 25. Rc1 {[%clk 0:09:56.1]} 25... Kb7 {[%clk 0:07:28.4]} 26. Rd1 {[%clk 0:09:01]} 26... Rxd1 {[%clk 0:07:05.6]} 27. Kxd1 {[%clk 0:09:10.9]} 27... a6 {[%clk 0:06:49.8]} 28. Ke2 {[%clk 0:09:14.9]} 28... Kc6 {[%clk 0:06:58.3]} 29. Kf3 {[%clk 0:09:24.3]} 29... f5 {[%clk 0:07:01.7]} 30. g3 {[%clk 0:09:11.5]} 30... Bf6 {[%clk 0:06:04.1]} 31. b3 {[%clk 0:09:17]} 31... g5 {[%clk 0:05:59.9]} 32. h3 {[%clk 0:09:17.5]} 32... e4+ {[%clk 0:05:33.5]} 33. Ke2 {[%clk 0:09:24.3]} 33... h5 {[%clk 0:05:17]} 34. g4 {[%clk 0:09:16.1]} 34... hxg4 {[%clk 0:04:46.8]} 35. hxg4 {[%clk 0:09:22.6]} 35... f4 {[%clk 0:04:36.5]} 36. Bd2 {[%clk 0:09:25.1]} 36... e3 {[%clk 0:04:39.2]} 37. Be1 {[%clk 0:09:18]} 37... Kd5 {[%clk 0:04:46.1]} 38. b4 {[%clk 0:08:40.5]} 38... Be7 {[%clk 0:04:39.4]} 39. a4 {[%clk 0:08:45.3]} 39... Ke4 {[%clk 0:03:50.1]} 40. b5 {[%clk 0:08:35.9]} 40... f3+ {[%clk 0:03:37.8]} 41. Kf1 {[%clk 0:08:17.9]} 41... axb5 {[%clk 0:03:40.5]} 42. axb5 {[%clk 0:08:25.5]} 42... Bd8 {[%clk 0:03:39.3]} 43. Bc3 {[%clk 0:08:28.5]} 43... Bb6 {[%clk 0:03:31.3]} 44. Bf6 {[%clk 0:08:21.2]} 44... Kf4 {[%clk 0:03:16.8]} 0-1\\n',\n",
       "  'time_control': '900+10',\n",
       "  'end_time': 1629484932,\n",
       "  'rated': True,\n",
       "  'accuracies': {'white': 36.27, 'black': 86.25},\n",
       "  'fen': '8/8/1b3B2/1P4p1/5kP1/4pp2/8/5K2 w - -',\n",
       "  'time_class': 'rapid',\n",
       "  'rules': 'chess',\n",
       "  'white': {'rating': 1001,\n",
       "   'result': 'resigned',\n",
       "   '@id': 'https://api.chess.com/pub/player/vishal26111111',\n",
       "   'username': 'vishal26111111'},\n",
       "  'black': {'rating': 1133,\n",
       "   'result': 'win',\n",
       "   '@id': 'https://api.chess.com/pub/player/vicalbiter',\n",
       "   'username': 'VicAlbiter'}},\n",
       " {'url': 'https://www.chess.com/game/live/23224294001',\n",
       "  'pgn': '[Event \"Live Chess\"]\\n[Site \"Chess.com\"]\\n[Date \"2021.08.20\"]\\n[Round \"-\"]\\n[White \"Alibella\"]\\n[Black \"VicAlbiter\"]\\n[Result \"1-0\"]\\n[CurrentPosition \"q6k/2p2p1N/2b3BP/p2nQ3/3P4/8/5PP1/7K b - -\"]\\n[Timezone \"UTC\"]\\n[ECO \"D00\"]\\n[ECOUrl \"https://www.chess.com/openings/Queens-Pawn-Opening-1...d5\"]\\n[UTCDate \"2021.08.20\"]\\n[UTCTime \"18:50:52\"]\\n[WhiteElo \"1180\"]\\n[BlackElo \"1116\"]\\n[TimeControl \"900+10\"]\\n[Termination \"Alibella won on time\"]\\n[StartTime \"18:50:52\"]\\n[EndDate \"2021.08.20\"]\\n[EndTime \"19:23:53\"]\\n[Link \"https://www.chess.com/game/live/23224294001\"]\\n\\n1. d4 {[%clk 0:15:06.6]} 1... d5 {[%clk 0:15:06.1]} 2. a4 {[%clk 0:15:14.9]} 2... e6 {[%clk 0:14:38.5]} 3. Nc3 {[%clk 0:15:22.1]} 3... Nf6 {[%clk 0:14:46.2]} 4. Bf4 {[%clk 0:15:26.3]} 4... Bb4 {[%clk 0:14:32.2]} 5. Qd3 {[%clk 0:15:30.4]} 5... Ne4 {[%clk 0:12:22.5]} 6. e3 {[%clk 0:15:25.5]} 6... Nxc3 {[%clk 0:12:10]} 7. bxc3 {[%clk 0:15:32.7]} 7... Ba5 {[%clk 0:12:18.4]} 8. Qb5+ {[%clk 0:15:29.4]} 8... Nc6 {[%clk 0:12:24]} 9. Ne2 {[%clk 0:15:06.8]} 9... O-O {[%clk 0:12:10.5]} 10. O-O-O {[%clk 0:15:10.2]} 10... a6 {[%clk 0:12:11.9]} 11. Qc5 {[%clk 0:15:10.6]} 11... Bd7 {[%clk 0:11:34.3]} 12. h4 {[%clk 0:14:51.2]} 12... b6 {[%clk 0:11:23.4]} 13. Qa3 {[%clk 0:14:52.3]} 13... Rb8 {[%clk 0:10:19]} 14. Ng3 {[%clk 0:14:53.9]} 14... b5 {[%clk 0:10:06.8]} 15. h5 {[%clk 0:15:00.3]} 15... b4 {[%clk 0:09:44.5]} 16. cxb4 {[%clk 0:15:04.9]} 16... Bxb4 {[%clk 0:09:46.3]} 17. Qd3 {[%clk 0:14:53.7]} 17... a5 {[%clk 0:08:46.9]} 18. e4 {[%clk 0:14:20.6]} 18... Qc8 {[%clk 0:08:14.9]} 19. exd5 {[%clk 0:14:24.1]} 19... exd5 {[%clk 0:08:15.9]} 20. c3 {[%clk 0:13:26.5]} 20... Ba3+ {[%clk 0:08:11.5]} 21. Kd2 {[%clk 0:13:25.3]} 21... Ne7 {[%clk 0:07:00]} 22. c4 {[%clk 0:13:17.9]} 22... Rb2+ {[%clk 0:06:43.9]} 23. Ke1 {[%clk 0:13:18.9]} 23... Bb4+ {[%clk 0:06:49]} 24. Bd2 {[%clk 0:13:26.2]} 24... Bxd2+ {[%clk 0:05:53.9]} 25. Rxd2 {[%clk 0:13:33.1]} 25... Rxd2 {[%clk 0:05:58]} 26. Qxd2 {[%clk 0:13:39]} 26... Bxa4 {[%clk 0:06:06.8]} 27. cxd5 {[%clk 0:13:41.7]} 27... Nxd5 {[%clk 0:06:15.3]} 28. Bd3 {[%clk 0:13:35]} 28... Re8+ {[%clk 0:06:01.8]} 29. Kf1 {[%clk 0:13:29.9]} 29... Nb4 {[%clk 0:05:00]} 30. Bf5 {[%clk 0:13:01.1]} 30... Qa6+ {[%clk 0:04:56.9]} 31. Kg1 {[%clk 0:13:01.1]} 31... Bc6 {[%clk 0:04:11.4]} 32. h6 {[%clk 0:12:52.6]} 32... g6 {[%clk 0:04:13.9]} 33. Qg5 {[%clk 0:12:02.3]} 33... Re1+ {[%clk 0:03:38.3]} 34. Kh2 {[%clk 0:11:56.8]} 34... Rxh1+ {[%clk 0:03:33.6]} 35. Kxh1 {[%clk 0:11:35.8]} 35... Qa8 {[%clk 0:02:44.7]} 36. Nh5 {[%clk 0:11:38.6]} 36... Kf8 {[%clk 0:01:41.7]} 37. Nf6 {[%clk 0:10:50.5]} 37... Nd5 {[%clk 0:01:33.1]} 38. Nxh7+ {[%clk 0:10:50.3]} 38... Kg8 {[%clk 0:01:12]} 39. Bxg6 {[%clk 0:10:36.2]} 39... Kh8 {[%clk 0:00:12.3]} 40. Qe5+ {[%clk 0:10:29.3]} 1-0\\n',\n",
       "  'time_control': '900+10',\n",
       "  'end_time': 1629487433,\n",
       "  'rated': True,\n",
       "  'accuracies': {'white': 80.29, 'black': 76.86},\n",
       "  'fen': 'q6k/2p2p1N/2b3BP/p2nQ3/3P4/8/5PP1/7K b - -',\n",
       "  'time_class': 'rapid',\n",
       "  'rules': 'chess',\n",
       "  'white': {'rating': 1180,\n",
       "   'result': 'win',\n",
       "   '@id': 'https://api.chess.com/pub/player/alibella',\n",
       "   'username': 'Alibella'},\n",
       "  'black': {'rating': 1116,\n",
       "   'result': 'timeout',\n",
       "   '@id': 'https://api.chess.com/pub/player/vicalbiter',\n",
       "   'username': 'VicAlbiter'}},\n",
       " {'url': 'https://www.chess.com/game/live/23226634541',\n",
       "  'pgn': '[Event \"Live Chess\"]\\n[Site \"Chess.com\"]\\n[Date \"2021.08.20\"]\\n[Round \"-\"]\\n[White \"VicAlbiter\"]\\n[Black \"popaso\"]\\n[Result \"0-1\"]\\n[CurrentPosition \"2b3k1/5pp1/7p/3p4/1P1Np3/P6q/2Q5/5nK1 w - -\"]\\n[Timezone \"UTC\"]\\n[ECO \"E00\"]\\n[ECOUrl \"https://www.chess.com/openings/Indian-Game-East-Indian-Benoni-Defense\"]\\n[UTCDate \"2021.08.20\"]\\n[UTCTime \"19:26:54\"]\\n[WhiteElo \"1099\"]\\n[BlackElo \"1159\"]\\n[TimeControl \"900+10\"]\\n[Termination \"popaso won by resignation\"]\\n[StartTime \"19:26:54\"]\\n[EndDate \"2021.08.20\"]\\n[EndTime \"20:02:28\"]\\n[Link \"https://www.chess.com/game/live/23226634541\"]\\n\\n1. d4 {[%clk 0:15:08.1]} 1... Nf6 {[%clk 0:15:07.3]} 2. c4 {[%clk 0:15:16.7]} 2... e6 {[%clk 0:15:15.2]} 3. Nc3 {[%clk 0:15:20.1]} 3... c5 {[%clk 0:15:23.1]} 4. e3 {[%clk 0:15:23.4]} 4... cxd4 {[%clk 0:15:21]} 5. exd4 {[%clk 0:15:29.4]} 5... Bb4 {[%clk 0:15:28.7]} 6. Bd2 {[%clk 0:15:37.5]} 6... Qa5 {[%clk 0:15:24.5]} 7. Nge2 {[%clk 0:15:34.9]} 7... Nc6 {[%clk 0:15:03.5]} 8. a3 {[%clk 0:14:51]} 8... Bxc3 {[%clk 0:14:49.4]} 9. Nxc3 {[%clk 0:14:51.7]} 9... Nxd4 {[%clk 0:14:46.3]} 10. b4 {[%clk 0:14:05.9]} 10... Qc7 {[%clk 0:13:23.6]} 11. Be3 {[%clk 0:13:37]} 11... Nf5 {[%clk 0:13:10.5]} 12. Bd3 {[%clk 0:11:33.4]} 12... Nxe3 {[%clk 0:13:14.4]} 13. fxe3 {[%clk 0:11:40.7]} 13... O-O {[%clk 0:13:23]} 14. O-O {[%clk 0:11:19]} 14... d5 {[%clk 0:13:15.3]} 15. c5 {[%clk 0:10:53]} 15... b6 {[%clk 0:13:17.7]} 16. Nb5 {[%clk 0:09:48.8]} 16... Qc6 {[%clk 0:13:23.7]} 17. Rc1 {[%clk 0:09:18.9]} 17... a6 {[%clk 0:12:40.1]} 18. Nd4 {[%clk 0:09:23.4]} 18... Qb7 {[%clk 0:12:15.8]} 19. cxb6 {[%clk 0:08:00.2]} 19... Qxb6 {[%clk 0:12:21.7]} 20. Qe2 {[%clk 0:06:50.4]} 20... Bb7 {[%clk 0:12:08.4]} 21. Rc2 {[%clk 0:05:44.7]} 21... Rac8 {[%clk 0:12:13.5]} 22. Rfc1 {[%clk 0:05:45.8]} 22... Rxc2 {[%clk 0:12:20.6]} 23. Rxc2 {[%clk 0:05:42]} 23... Rc8 {[%clk 0:12:23.5]} 24. Rxc8+ {[%clk 0:05:33.1]} 24... Bxc8 {[%clk 0:12:30]} 25. h3 {[%clk 0:04:43.9]} 25... e5 {[%clk 0:12:08.3]} 26. Qc2 {[%clk 0:04:16.5]} 26... Bd7 {[%clk 0:11:35]} 27. Nb3 {[%clk 0:03:42.9]} 27... Qxe3+ {[%clk 0:11:12.7]} 28. Kf1 {[%clk 0:02:53.1]} 28... e4 {[%clk 0:11:05]} 29. Bxa6 {[%clk 0:02:39.3]} 29... h6 {[%clk 0:09:29]} 30. Bc8 {[%clk 0:02:22.2]} 30... Nh5 {[%clk 0:07:56.8]} 31. g3 {[%clk 0:01:07.4]} 31... Nxg3+ {[%clk 0:08:01.1]} 32. Kg2 {[%clk 0:01:14.6]} 32... Qf3+ {[%clk 0:08:09]} 33. Kh2 {[%clk 0:01:14.5]} 33... Bxc8 {[%clk 0:06:24.4]} 34. Nd4 {[%clk 0:01:22.5]} 34... Nf1+ {[%clk 0:05:15]} 35. Kg1 {[%clk 0:01:19.4]} 35... Qxh3 {[%clk 0:05:21.7]} 0-1\\n',\n",
       "  'time_control': '900+10',\n",
       "  'end_time': 1629489748,\n",
       "  'rated': True,\n",
       "  'accuracies': {'white': 10.72, 'black': 13.88},\n",
       "  'fen': '2b3k1/5pp1/7p/3p4/1P1Np3/P6q/2Q5/5nK1 w - -',\n",
       "  'time_class': 'rapid',\n",
       "  'rules': 'chess',\n",
       "  'white': {'rating': 1099,\n",
       "   'result': 'resigned',\n",
       "   '@id': 'https://api.chess.com/pub/player/vicalbiter',\n",
       "   'username': 'VicAlbiter'},\n",
       "  'black': {'rating': 1159,\n",
       "   'result': 'win',\n",
       "   '@id': 'https://api.chess.com/pub/player/popaso',\n",
       "   'username': 'popaso'}},\n",
       " {'url': 'https://www.chess.com/game/live/23230254857',\n",
       "  'pgn': '[Event \"Live Chess\"]\\n[Site \"Chess.com\"]\\n[Date \"2021.08.20\"]\\n[Round \"-\"]\\n[White \"Ismetsh\"]\\n[Black \"VicAlbiter\"]\\n[Result \"0-1\"]\\n[CurrentPosition \"5k2/ppp2p1p/2p3p1/8/7P/5qPK/8/7r w - -\"]\\n[Timezone \"UTC\"]\\n[ECO \"A00\"]\\n[ECOUrl \"https://www.chess.com/openings/Vant-Kruijs-Opening-1...e5\"]\\n[UTCDate \"2021.08.20\"]\\n[UTCTime \"20:28:40\"]\\n[WhiteElo \"995\"]\\n[BlackElo \"1112\"]\\n[TimeControl \"900+10\"]\\n[Termination \"VicAlbiter won by checkmate\"]\\n[StartTime \"20:28:40\"]\\n[EndDate \"2021.08.20\"]\\n[EndTime \"20:49:23\"]\\n[Link \"https://www.chess.com/game/live/23230254857\"]\\n\\n1. e3 {[%clk 0:15:05.7]} 1... e5 {[%clk 0:14:40.3]} 2. Qf3 {[%clk 0:15:12.9]} 2... Nf6 {[%clk 0:14:44.4]} 3. Qg3 {[%clk 0:15:17.2]} 3... Nc6 {[%clk 0:14:49.8]} 4. Bb5 {[%clk 0:15:21]} 4... Bc5 {[%clk 0:13:40.1]} 5. Bxc6 {[%clk 0:15:25]} 5... dxc6 {[%clk 0:13:48.4]} 6. Qxe5+ {[%clk 0:15:26.8]} 6... Qe7 {[%clk 0:13:44.6]} 7. Qg3 {[%clk 0:15:24.6]} 7... O-O {[%clk 0:13:15.7]} 8. b3 {[%clk 0:15:25]} 8... Bd6 {[%clk 0:13:18.4]} 9. f4 {[%clk 0:15:30.3]} 9... Ne4 {[%clk 0:11:57.7]} 10. Qf3 {[%clk 0:15:16.6]} 10... g6 {[%clk 0:11:05.7]} 11. h3 {[%clk 0:15:20]} 11... Qh4+ {[%clk 0:10:23.2]} 12. Ke2 {[%clk 0:14:48.4]} 12... Ng3+ {[%clk 0:10:25.6]} 13. Kd3 {[%clk 0:14:20.5]} 13... Bf5+ {[%clk 0:10:08.2]} 14. e4 {[%clk 0:14:24.7]} 14... Bxe4+ {[%clk 0:10:10.6]} 15. Qxe4 {[%clk 0:14:21.4]} 15... Nxe4 {[%clk 0:10:19.1]} 16. Kxe4 {[%clk 0:14:29.3]} 16... Qxf4+ {[%clk 0:09:18.5]} 17. Kd3 {[%clk 0:14:31.1]} 17... Qf5+ {[%clk 0:08:45.1]} 18. Kc3 {[%clk 0:14:31.9]} 18... Be5+ {[%clk 0:08:31]} 19. d4 {[%clk 0:14:38.2]} 19... Bxd4+ {[%clk 0:07:51.8]} 20. Kxd4 {[%clk 0:14:41.2]} 20... Qf6+ {[%clk 0:07:43]} 21. Kd3 {[%clk 0:14:43.3]} 21... Rad8+ {[%clk 0:07:48.5]} 22. Ke2 {[%clk 0:14:43.5]} 22... Qxa1 {[%clk 0:07:38.3]} 23. Nf3 {[%clk 0:14:17.7]} 23... Qxb1 {[%clk 0:07:36.2]} 24. Kf2 {[%clk 0:14:20]} 24... Qxc2+ {[%clk 0:07:29.4]} 25. Kg3 {[%clk 0:14:23.9]} 25... Rd1 {[%clk 0:07:27.3]} 26. Bh6 {[%clk 0:14:06.7]} 26... Rxh1 {[%clk 0:07:27.4]} 27. Bxf8 {[%clk 0:14:14.2]} 27... Kxf8 {[%clk 0:07:36.4]} 28. a4 {[%clk 0:14:09.4]} 28... Qxb3 {[%clk 0:07:44.6]} 29. h4 {[%clk 0:14:14.5]} 29... Qxa4 {[%clk 0:07:48.8]} 30. Kf2 {[%clk 0:13:41.7]} 30... Qf4 {[%clk 0:07:00.2]} 31. g3 {[%clk 0:13:45.7]} 31... Rf1+ {[%clk 0:06:18.6]} 32. Kg2 {[%clk 0:13:50.6]} 32... Qxf3+ {[%clk 0:06:28.5]} 33. Kh3 {[%clk 0:13:59]} 33... Rh1# {[%clk 0:06:34.6]} 0-1\\n',\n",
       "  'time_control': '900+10',\n",
       "  'end_time': 1629492563,\n",
       "  'rated': True,\n",
       "  'accuracies': {'white': 51.44, 'black': 94.54},\n",
       "  'fen': '5k2/ppp2p1p/2p3p1/8/7P/5qPK/8/7r w - -',\n",
       "  'time_class': 'rapid',\n",
       "  'rules': 'chess',\n",
       "  'white': {'rating': 995,\n",
       "   'result': 'checkmated',\n",
       "   '@id': 'https://api.chess.com/pub/player/ismetsh',\n",
       "   'username': 'Ismetsh'},\n",
       "  'black': {'rating': 1112,\n",
       "   'result': 'win',\n",
       "   '@id': 'https://api.chess.com/pub/player/vicalbiter',\n",
       "   'username': 'VicAlbiter'}},\n",
       " {'url': 'https://www.chess.com/game/live/23240454397',\n",
       "  'pgn': '[Event \"Live Chess\"]\\n[Site \"Chess.com\"]\\n[Date \"2021.08.20\"]\\n[Round \"-\"]\\n[White \"VicAlbiter\"]\\n[Black \"BDawgTheWinner\"]\\n[Result \"1-0\"]\\n[CurrentPosition \"8/2N5/8/8/4P1P1/k7/3QKP2/1R6 b - -\"]\\n[Timezone \"UTC\"]\\n[ECO \"A53\"]\\n[ECOUrl \"https://www.chess.com/openings/Old-Indian-Defense\"]\\n[UTCDate \"2021.08.20\"]\\n[UTCTime \"23:20:35\"]\\n[WhiteElo \"1125\"]\\n[BlackElo \"1011\"]\\n[TimeControl \"900+10\"]\\n[Termination \"VicAlbiter won by resignation\"]\\n[StartTime \"23:20:35\"]\\n[EndDate \"2021.08.20\"]\\n[EndTime \"23:43:44\"]\\n[Link \"https://www.chess.com/game/live/23240454397\"]\\n\\n1. d4 {[%clk 0:15:08.4]} 1... d6 {[%clk 0:15:09.9]} 2. c4 {[%clk 0:15:15.1]} 2... Nf6 {[%clk 0:15:19.8]} 3. Nc3 {[%clk 0:15:22.5]} 3... g6 {[%clk 0:15:28.2]} 4. Nf3 {[%clk 0:15:28]} 4... Bg7 {[%clk 0:15:38.1]} 5. e3 {[%clk 0:15:26.9]} 5... Bg4 {[%clk 0:15:41.5]} 6. Be2 {[%clk 0:15:32.8]} 6... e6 {[%clk 0:15:33.1]} 7. Qb3 {[%clk 0:15:25.6]} 7... b6 {[%clk 0:15:38.3]} 8. O-O {[%clk 0:14:36.3]} 8... Nbd7 {[%clk 0:15:22.1]} 9. h3 {[%clk 0:14:24.1]} 9... Bxf3 {[%clk 0:15:30.8]} 10. Bxf3 {[%clk 0:14:32.8]} 10... Qe7 {[%clk 0:15:32.9]} 11. Bxa8 {[%clk 0:14:39]} 11... d5 {[%clk 0:15:27]} 12. Bc6 {[%clk 0:14:28.6]} 12... dxc4 {[%clk 0:15:23.4]} 13. Bxd7+ {[%clk 0:14:36.9]} 13... Nxd7 {[%clk 0:15:28.4]} 14. Qxc4 {[%clk 0:14:41.4]} 14... c5 {[%clk 0:15:33.2]} 15. Qa6 {[%clk 0:13:32.1]} 15... O-O {[%clk 0:15:23.1]} 16. dxc5 {[%clk 0:12:22.8]} 16... bxc5 {[%clk 0:15:24.1]} 17. Qxa7 {[%clk 0:11:54]} 17... f5 {[%clk 0:15:27.7]} 18. Rd1 {[%clk 0:11:37.3]} 18... Rd8 {[%clk 0:14:46.9]} 19. e4 {[%clk 0:11:06.9]} 19... f4 {[%clk 0:14:44.4]} 20. Bxf4 {[%clk 0:10:57]} 20... g5 {[%clk 0:14:47.8]} 21. Bxg5 {[%clk 0:10:30.2]} 21... Qxg5 {[%clk 0:14:41.2]} 22. Rxd7 {[%clk 0:10:38.2]} 22... Rf8 {[%clk 0:14:49]} 23. Rxg7+ {[%clk 0:08:05.6]} 23... Qxg7 {[%clk 0:14:55.8]} 24. Qxg7+ {[%clk 0:08:14.1]} 24... Kxg7 {[%clk 0:15:05.7]} 25. Kf1 {[%clk 0:07:47.7]} 25... h5 {[%clk 0:14:46.6]} 26. a4 {[%clk 0:07:53.1]} 26... Rd8 {[%clk 0:14:50.3]} 27. Ke2 {[%clk 0:07:53.4]} 27... c4 {[%clk 0:14:48.5]} 28. a5 {[%clk 0:07:56.7]} 28... Kf7 {[%clk 0:14:56.1]} 29. a6 {[%clk 0:08:05.1]} 29... Ke7 {[%clk 0:15:04.8]} 30. a7 {[%clk 0:08:03.5]} 30... Ra8 {[%clk 0:15:12.8]} 31. Nb5 {[%clk 0:07:58.2]} 31... Kd7 {[%clk 0:15:21.4]} 32. g4 {[%clk 0:07:58.2]} 32... hxg4 {[%clk 0:15:26.3]} 33. hxg4 {[%clk 0:08:06.6]} 33... Kc6 {[%clk 0:15:35.3]} 34. Nd4+ {[%clk 0:08:14.9]} 34... Kc5 {[%clk 0:15:41.3]} 35. Nxe6+ {[%clk 0:08:23.4]} 35... Kb4 {[%clk 0:15:48.8]} 36. Nc7 {[%clk 0:08:30.4]} 36... c3 {[%clk 0:15:11.7]} 37. bxc3+ {[%clk 0:08:38]} 37... Kxc3 {[%clk 0:15:19.2]} 38. Nxa8 {[%clk 0:08:42.2]} 38... Kb4 {[%clk 0:15:26.8]} 39. Nc7 {[%clk 0:08:48.1]} 39... Kc5 {[%clk 0:15:35.4]} 40. a8=Q {[%clk 0:08:55.4]} 40... Kc4 {[%clk 0:15:43.5]} 41. Qd5+ {[%clk 0:08:54.5]} 41... Kc3 {[%clk 0:15:52.3]} 42. Rc1+ {[%clk 0:09:01.8]} 42... Kb2 {[%clk 0:16:00.2]} 43. Qd2+ {[%clk 0:08:42.6]} 43... Ka3 {[%clk 0:16:01.3]} 44. Rb1 {[%clk 0:08:42.9]} 1-0\\n',\n",
       "  'time_control': '900+10',\n",
       "  'end_time': 1629503024,\n",
       "  'rated': True,\n",
       "  'accuracies': {'white': 97.52, 'black': 77.89},\n",
       "  'fen': '8/2N5/8/8/4P1P1/k7/3QKP2/1R6 b - -',\n",
       "  'time_class': 'rapid',\n",
       "  'rules': 'chess',\n",
       "  'white': {'rating': 1125,\n",
       "   'result': 'win',\n",
       "   '@id': 'https://api.chess.com/pub/player/vicalbiter',\n",
       "   'username': 'VicAlbiter'},\n",
       "  'black': {'rating': 1011,\n",
       "   'result': 'resigned',\n",
       "   '@id': 'https://api.chess.com/pub/player/bdawgthewinner',\n",
       "   'username': 'BDawgTheWinner'}},\n",
       " {'url': 'https://www.chess.com/game/live/23250003335',\n",
       "  'pgn': '[Event \"Live Chess\"]\\n[Site \"Chess.com\"]\\n[Date \"2021.08.21\"]\\n[Round \"-\"]\\n[White \"jp1961621\"]\\n[Black \"VicAlbiter\"]\\n[Result \"1-0\"]\\n[CurrentPosition \"8/p6p/3kppp1/8/1PN5/r7/5PPP/2R3K1 b - -\"]\\n[Timezone \"UTC\"]\\n[ECO \"B22\"]\\n[ECOUrl \"https://www.chess.com/openings/Sicilian-Defense-Alapin-Variation-2...Nc6-3.Nf3\"]\\n[UTCDate \"2021.08.21\"]\\n[UTCTime \"01:56:03\"]\\n[WhiteElo \"1205\"]\\n[BlackElo \"1112\"]\\n[TimeControl \"900+10\"]\\n[Termination \"jp1961621 won by resignation\"]\\n[StartTime \"01:56:03\"]\\n[EndDate \"2021.08.21\"]\\n[EndTime \"02:18:58\"]\\n[Link \"https://www.chess.com/game/live/23250003335\"]\\n\\n1. e4 {[%clk 0:15:09.9]} 1... c5 {[%clk 0:15:07.6]} 2. Nf3 {[%clk 0:15:14.9]} 2... Nc6 {[%clk 0:15:14.9]} 3. c3 {[%clk 0:15:19.7]} 3... Nf6 {[%clk 0:14:43.5]} 4. e5 {[%clk 0:15:23.6]} 4... Nd5 {[%clk 0:14:28.5]} 5. d4 {[%clk 0:15:26.8]} 5... e6 {[%clk 0:14:04.4]} 6. c4 {[%clk 0:15:26.6]} 6... Nb6 {[%clk 0:14:07.2]} 7. d5 {[%clk 0:15:32.7]} 7... Na5 {[%clk 0:13:04.2]} 8. dxe6 {[%clk 0:15:36.6]} 8... dxe6 {[%clk 0:13:01.2]} 9. Qxd8+ {[%clk 0:15:41.5]} 9... Kxd8 {[%clk 0:13:09.5]} 10. b3 {[%clk 0:15:50]} 10... Nc6 {[%clk 0:12:55.2]} 11. Be2 {[%clk 0:15:53]} 11... g6 {[%clk 0:12:53.6]} 12. O-O {[%clk 0:15:56.2]} 12... Bg7 {[%clk 0:13:01]} 13. Rd1+ {[%clk 0:15:57.2]} 13... Kc7 {[%clk 0:12:54.4]} 14. Bf4 {[%clk 0:16:02.6]} 14... Bd7 {[%clk 0:11:25.7]} 15. Nc3 {[%clk 0:16:07.3]} 15... Rad8 {[%clk 0:10:17.1]} 16. Nb5+ {[%clk 0:16:11.4]} 16... Kb8 {[%clk 0:10:16.6]} 17. Nd6 {[%clk 0:16:17.4]} 17... Be8 {[%clk 0:09:34.9]} 18. Ne4 {[%clk 0:16:10.4]} 18... Rxd1+ {[%clk 0:09:34.3]} 19. Rxd1 {[%clk 0:16:16.3]} 19... Nd7 {[%clk 0:08:12.6]} 20. a3 {[%clk 0:16:17.1]} 20... Bxe5 {[%clk 0:06:52]} 21. Bxe5+ {[%clk 0:16:17]} 21... Ncxe5 {[%clk 0:06:59.6]} 22. Nxe5 {[%clk 0:16:16.1]} 22... Nxe5 {[%clk 0:07:04]} 23. Nxc5 {[%clk 0:16:15.8]} 23... Bc6 {[%clk 0:06:45]} 24. b4 {[%clk 0:16:07.3]} 24... b6 {[%clk 0:06:41.7]} 25. Nb3 {[%clk 0:16:07.1]} 25... Ba4 {[%clk 0:06:28.9]} 26. Rb1 {[%clk 0:16:03]} 26... Rc8 {[%clk 0:05:38.3]} 27. c5 {[%clk 0:16:07.7]} 27... bxc5 {[%clk 0:04:46.4]} 28. Nxc5 {[%clk 0:16:12.7]} 28... Rd8 {[%clk 0:02:53.4]} 29. Nxa4 {[%clk 0:16:12.3]} 29... Rd2 {[%clk 0:02:48.4]} 30. Re1 {[%clk 0:16:00.2]} 30... Nd3 {[%clk 0:02:40.6]} 31. Bxd3 {[%clk 0:16:00.3]} 31... Rxd3 {[%clk 0:02:49]} 32. Nc5 {[%clk 0:16:08.2]} 32... Rxa3 {[%clk 0:02:47.9]} 33. Nd7+ {[%clk 0:16:13.4]} 33... Kc7 {[%clk 0:02:46.1]} 34. Ne5 {[%clk 0:16:18.8]} 34... f6 {[%clk 0:02:43.2]} 35. Rc1+ {[%clk 0:16:23.4]} 35... Kd6 {[%clk 0:02:49.8]} 36. Nc4+ {[%clk 0:16:29.5]} 1-0\\n',\n",
       "  'time_control': '900+10',\n",
       "  'end_time': 1629512338,\n",
       "  'rated': True,\n",
       "  'accuracies': {'white': 95.08, 'black': 77.1},\n",
       "  'fen': '8/p6p/3kppp1/8/1PN5/r7/5PPP/2R3K1 b - -',\n",
       "  'time_class': 'rapid',\n",
       "  'rules': 'chess',\n",
       "  'white': {'rating': 1205,\n",
       "   'result': 'win',\n",
       "   '@id': 'https://api.chess.com/pub/player/jp1961621',\n",
       "   'username': 'jp1961621'},\n",
       "  'black': {'rating': 1112,\n",
       "   'result': 'resigned',\n",
       "   '@id': 'https://api.chess.com/pub/player/vicalbiter',\n",
       "   'username': 'VicAlbiter'}},\n",
       " {'url': 'https://www.chess.com/game/live/23251251827',\n",
       "  'pgn': '[Event \"Live Chess\"]\\n[Site \"Chess.com\"]\\n[Date \"2021.08.21\"]\\n[Round \"-\"]\\n[White \"VicAlbiter\"]\\n[Black \"AmyJiQW\"]\\n[Result \"1-0\"]\\n[CurrentPosition \"r5r1/p3Bp1p/6k1/3R4/1bB5/4PN1P/P4PP1/R5K1 w - -\"]\\n[Timezone \"UTC\"]\\n[ECO \"D06\"]\\n[ECOUrl \"https://www.chess.com/openings/Queens-Gambit-Declined-Austrian-Variation\"]\\n[UTCDate \"2021.08.21\"]\\n[UTCTime \"02:22:00\"]\\n[WhiteElo \"1130\"]\\n[BlackElo \"1159\"]\\n[TimeControl \"900+10\"]\\n[Termination \"VicAlbiter won by resignation\"]\\n[StartTime \"02:22:00\"]\\n[EndDate \"2021.08.21\"]\\n[EndTime \"02:35:00\"]\\n[Link \"https://www.chess.com/game/live/23251251827\"]\\n\\n1. d4 {[%clk 0:15:06.2]} 1... d5 {[%clk 0:15:06.2]} 2. c4 {[%clk 0:15:14.5]} 2... c5 {[%clk 0:15:10.9]} 3. e3 {[%clk 0:14:43.6]} 3... e6 {[%clk 0:14:58.5]} 4. Nc3 {[%clk 0:14:42.8]} 4... Nc6 {[%clk 0:15:01.7]} 5. Nf3 {[%clk 0:14:24.2]} 5... Nf6 {[%clk 0:14:54]} 6. cxd5 {[%clk 0:14:06.2]} 6... cxd4 {[%clk 0:14:56.8]} 7. dxc6 {[%clk 0:14:04.1]} 7... dxc3 {[%clk 0:15:02.6]} 8. Qxd8+ {[%clk 0:14:11.3]} 8... Kxd8 {[%clk 0:15:02.7]} 9. cxb7 {[%clk 0:14:10.2]} 9... cxb2 {[%clk 0:15:05.4]} 10. bxc8=Q+ {[%clk 0:14:14.9]} 10... Kxc8 {[%clk 0:15:04.5]} 11. Bxb2 {[%clk 0:14:23]} 11... e5 {[%clk 0:13:49.9]} 12. Ba6+ {[%clk 0:14:17.2]} 12... Kc7 {[%clk 0:13:46]} 13. Bxe5+ {[%clk 0:14:15.9]} 13... Kd7 {[%clk 0:13:36.8]} 14. O-O {[%clk 0:13:35.9]} 14... g5 {[%clk 0:13:35.3]} 15. Bxf6 {[%clk 0:13:37.4]} 15... Rg8 {[%clk 0:13:32.2]} 16. Rfd1+ {[%clk 0:13:31.9]} 16... Ke6 {[%clk 0:13:27]} 17. Bxg5 {[%clk 0:13:23.8]} 17... Bb4 {[%clk 0:13:16.4]} 18. Bc4+ {[%clk 0:12:47.6]} 18... Kf5 {[%clk 0:13:00.9]} 19. Rd5+ {[%clk 0:12:28.9]} 19... Kg4 {[%clk 0:13:06]} 20. h3+ {[%clk 0:12:04.5]} 20... Kh5 {[%clk 0:13:04.6]} 21. Be7+ {[%clk 0:11:27.6]} 21... Kg6 {[%clk 0:12:50.3]} 1-0\\n',\n",
       "  'time_control': '900+10',\n",
       "  'end_time': 1629513300,\n",
       "  'rated': True,\n",
       "  'accuracies': {'white': 80.09, 'black': 28.21},\n",
       "  'fen': 'r5r1/p3Bp1p/6k1/3R4/1bB5/4PN1P/P4PP1/R5K1 w - -',\n",
       "  'time_class': 'rapid',\n",
       "  'rules': 'chess',\n",
       "  'white': {'rating': 1130,\n",
       "   'result': 'win',\n",
       "   '@id': 'https://api.chess.com/pub/player/vicalbiter',\n",
       "   'username': 'VicAlbiter'},\n",
       "  'black': {'rating': 1159,\n",
       "   'result': 'resigned',\n",
       "   '@id': 'https://api.chess.com/pub/player/amyjiqw',\n",
       "   'username': 'AmyJiQW'}},\n",
       " {'url': 'https://www.chess.com/game/live/23252415689',\n",
       "  'pgn': '[Event \"Live Chess\"]\\n[Site \"Chess.com\"]\\n[Date \"2021.08.21\"]\\n[Round \"-\"]\\n[White \"VicAlbiter\"]\\n[Black \"djroe\"]\\n[Result \"1-0\"]\\n[CurrentPosition \"r4rk1/4pp1Q/8/8/1p6/1q1B3P/n4PP1/R4RK1 b - -\"]\\n[Timezone \"UTC\"]\\n[ECO \"E90\"]\\n[ECOUrl \"https://www.chess.com/openings/Kings-Indian-Defense-Normal-Variation-4.e4-d6-5.Nf3-O-O-6.h3\"]\\n[UTCDate \"2021.08.21\"]\\n[UTCTime \"02:37:27\"]\\n[WhiteElo \"1148\"]\\n[BlackElo \"1192\"]\\n[TimeControl \"900+10\"]\\n[Termination \"VicAlbiter won by checkmate\"]\\n[StartTime \"02:37:27\"]\\n[EndDate \"2021.08.21\"]\\n[EndTime \"03:13:24\"]\\n[Link \"https://www.chess.com/game/live/23252415689\"]\\n\\n1. d4 {[%clk 0:15:07.9]} 1... Nf6 {[%clk 0:15:07.2]} 2. c4 {[%clk 0:15:15.9]} 2... g6 {[%clk 0:15:09.3]} 3. Nc3 {[%clk 0:15:20]} 3... Bg7 {[%clk 0:15:16.7]} 4. e4 {[%clk 0:15:15.6]} 4... d6 {[%clk 0:15:22.6]} 5. Nf3 {[%clk 0:15:19.8]} 5... O-O {[%clk 0:15:30]} 6. h3 {[%clk 0:14:48.9]} 6... c6 {[%clk 0:15:16.2]} 7. Be2 {[%clk 0:14:45.7]} 7... Qa5 {[%clk 0:13:54.4]} 8. O-O {[%clk 0:14:20.2]} 8... d5 {[%clk 0:13:48.6]} 9. cxd5 {[%clk 0:13:01.7]} 9... cxd5 {[%clk 0:13:56.4]} 10. Nxd5 {[%clk 0:11:58.9]} 10... Nxd5 {[%clk 0:13:50.1]} 11. exd5 {[%clk 0:12:06.4]} 11... Qxd5 {[%clk 0:13:57.3]} 12. b3 {[%clk 0:09:41.1]} 12... Nc6 {[%clk 0:13:47.5]} 13. Bc4 {[%clk 0:09:06.5]} 13... Qd6 {[%clk 0:12:39]} 14. Be3 {[%clk 0:07:59.4]} 14... Bf5 {[%clk 0:12:19.7]} 15. Rc1 {[%clk 0:07:31.5]} 15... Rad8 {[%clk 0:10:17.3]} 16. d5 {[%clk 0:07:22.3]} 16... Nb4 {[%clk 0:08:50.1]} 17. Bxa7 {[%clk 0:06:58.2]} 17... Ra8 {[%clk 0:06:37]} 18. Bd4 {[%clk 0:05:25.9]} 18... Bxd4 {[%clk 0:05:26.5]} 19. Nxd4 {[%clk 0:05:02.9]} 19... Nxa2 {[%clk 0:04:59.1]} 20. Nxf5 {[%clk 0:05:09]} 20... gxf5 {[%clk 0:04:47.5]} 21. Ra1 {[%clk 0:04:27.5]} 21... b5 {[%clk 0:01:57.7]} 22. Bd3 {[%clk 0:02:37.6]} 22... Qxd5 {[%clk 0:01:51.4]} 23. Qf3 {[%clk 0:01:56.4]} 23... Qxb3 {[%clk 0:01:03.7]} 24. Qxf5 {[%clk 0:01:56.2]} 24... b4 {[%clk 0:00:24.4]} 25. Qxh7# {[%clk 0:02:01.7]} 1-0\\n',\n",
       "  'time_control': '900+10',\n",
       "  'end_time': 1629515604,\n",
       "  'rated': True,\n",
       "  'accuracies': {'white': 92.09, 'black': 75.39},\n",
       "  'fen': 'r4rk1/4pp1Q/8/8/1p6/1q1B3P/n4PP1/R4RK1 b - -',\n",
       "  'time_class': 'rapid',\n",
       "  'rules': 'chess',\n",
       "  'white': {'rating': 1148,\n",
       "   'result': 'win',\n",
       "   '@id': 'https://api.chess.com/pub/player/vicalbiter',\n",
       "   'username': 'VicAlbiter'},\n",
       "  'black': {'rating': 1192,\n",
       "   'result': 'checkmated',\n",
       "   '@id': 'https://api.chess.com/pub/player/djroe',\n",
       "   'username': 'djroe'}},\n",
       " {'url': 'https://www.chess.com/game/live/23680189643',\n",
       "  'pgn': '[Event \"Live Chess\"]\\n[Site \"Chess.com\"]\\n[Date \"2021.08.26\"]\\n[Round \"-\"]\\n[White \"Anaraus\"]\\n[Black \"VicAlbiter\"]\\n[Result \"1-0\"]\\n[CurrentPosition \"r1bq1k1r/pp3Npp/5b2/4p3/2BnP3/2N5/PPP2PPP/R2QK2R b KQ -\"]\\n[Timezone \"UTC\"]\\n[ECO \"B33\"]\\n[ECOUrl \"https://www.chess.com/openings/Sicilian-Defense-Open-Pelikan-and-Sveshnikov-Variations-6.Ndb5-d6-7.Bg5\"]\\n[UTCDate \"2021.08.26\"]\\n[UTCTime \"01:24:22\"]\\n[WhiteElo \"1172\"]\\n[BlackElo \"1134\"]\\n[TimeControl \"900+10\"]\\n[Termination \"Anaraus won by resignation\"]\\n[StartTime \"01:24:22\"]\\n[EndDate \"2021.08.26\"]\\n[EndTime \"01:30:58\"]\\n[Link \"https://www.chess.com/game/live/23680189643\"]\\n\\n1. e4 {[%clk 0:15:10]} 1... c5 {[%clk 0:15:08.7]} 2. Nf3 {[%clk 0:15:15.1]} 2... Nc6 {[%clk 0:15:15.1]} 3. d4 {[%clk 0:15:23.3]} 3... cxd4 {[%clk 0:15:22.5]} 4. Nxd4 {[%clk 0:15:32.3]} 4... Nf6 {[%clk 0:15:28.5]} 5. Nc3 {[%clk 0:15:35.1]} 5... e5 {[%clk 0:15:36.6]} 6. Ndb5 {[%clk 0:15:38.8]} 6... d6 {[%clk 0:15:41.7]} 7. Bg5 {[%clk 0:13:45.8]} 7... Be7 {[%clk 0:15:47.7]} 8. Bxf6 {[%clk 0:13:39.2]} 8... Bxf6 {[%clk 0:15:54.5]} 9. Nxd6+ {[%clk 0:13:41.7]} 9... Kf8 {[%clk 0:15:25.4]} 10. Bc4 {[%clk 0:13:41]} 10... Nd4 {[%clk 0:14:06]} 11. Nxf7 {[%clk 0:13:31.6]} 1-0\\n',\n",
       "  'time_control': '900+10',\n",
       "  'end_time': 1629941458,\n",
       "  'rated': True,\n",
       "  'accuracies': {'white': 98.72, 'black': 84.12},\n",
       "  'fen': 'r1bq1k1r/pp3Npp/5b2/4p3/2BnP3/2N5/PPP2PPP/R2QK2R b KQ -',\n",
       "  'time_class': 'rapid',\n",
       "  'rules': 'chess',\n",
       "  'white': {'rating': 1172,\n",
       "   'result': 'win',\n",
       "   '@id': 'https://api.chess.com/pub/player/anaraus',\n",
       "   'username': 'Anaraus'},\n",
       "  'black': {'rating': 1134,\n",
       "   'result': 'resigned',\n",
       "   '@id': 'https://api.chess.com/pub/player/vicalbiter',\n",
       "   'username': 'VicAlbiter'}},\n",
       " {'url': 'https://www.chess.com/game/live/23680262661',\n",
       "  'pgn': '[Event \"Live Chess\"]\\n[Site \"Chess.com\"]\\n[Date \"2021.08.26\"]\\n[Round \"-\"]\\n[White \"VicAlbiter\"]\\n[Black \"whatthehell1\"]\\n[Result \"1-0\"]\\n[CurrentPosition \"8/2R5/2pp2kp/1p6/8/2P3B1/PP6/6K1 b - -\"]\\n[Timezone \"UTC\"]\\n[ECO \"C50\"]\\n[ECOUrl \"https://www.chess.com/openings/Giuoco-Piano-Game-4.Nc3\"]\\n[UTCDate \"2021.08.26\"]\\n[UTCTime \"01:32:13\"]\\n[WhiteElo \"1145\"]\\n[BlackElo \"1057\"]\\n[TimeControl \"900+10\"]\\n[Termination \"VicAlbiter won by resignation\"]\\n[StartTime \"01:32:13\"]\\n[EndDate \"2021.08.26\"]\\n[EndTime \"02:01:01\"]\\n[Link \"https://www.chess.com/game/live/23680262661\"]\\n\\n1. e4 {[%clk 0:15:08.6]} 1... e5 {[%clk 0:15:04.5]} 2. Nf3 {[%clk 0:15:16.9]} 2... Nc6 {[%clk 0:15:11.6]} 3. Bc4 {[%clk 0:15:25]} 3... Bc5 {[%clk 0:15:19.3]} 4. Nc3 {[%clk 0:15:28.5]} 4... h6 {[%clk 0:15:27.1]} 5. Nd5 {[%clk 0:14:07.8]} 5... Nge7 {[%clk 0:15:23.1]} 6. d3 {[%clk 0:13:30.4]} 6... O-O {[%clk 0:15:31.2]} 7. c3 {[%clk 0:12:58.9]} 7... Na5 {[%clk 0:15:37.1]} 8. Nxe5 {[%clk 0:12:07.6]} 8... Bxf2+ {[%clk 0:15:42.5]} 9. Kxf2 {[%clk 0:12:05.3]} 9... Nxc4 {[%clk 0:15:51.2]} 10. Nxc4 {[%clk 0:12:06.5]} 10... Nxd5 {[%clk 0:15:59.3]} 11. exd5 {[%clk 0:12:05.6]} 11... d6 {[%clk 0:16:07.7]} 12. Re1 {[%clk 0:11:24.9]} 12... b5 {[%clk 0:16:15.8]} 13. Na5 {[%clk 0:11:10.3]} 13... Qh4+ {[%clk 0:16:17.9]} 14. Kg1 {[%clk 0:11:18.2]} 14... Kh8 {[%clk 0:16:15.5]} 15. Nc6 {[%clk 0:10:03.2]} 15... Bg4 {[%clk 0:16:23.1]} 16. Re4 {[%clk 0:09:34.9]} 16... f5 {[%clk 0:16:24.1]} 17. Rf4 {[%clk 0:09:03.8]} 17... g5 {[%clk 0:16:24.8]} 18. Rxg4 {[%clk 0:07:27]} 18... fxg4 {[%clk 0:16:27]} 19. g3 {[%clk 0:06:53.9]} 19... Qh3 {[%clk 0:16:32.4]} 20. Be3 {[%clk 0:06:35.7]} 20... Rf3 {[%clk 0:16:35.8]} 21. Bd4+ {[%clk 0:06:24.9]} 21... Kh7 {[%clk 0:16:37.3]} 22. Qd2 {[%clk 0:05:49.1]} 22... Raf8 {[%clk 0:16:37.6]} 23. Qe2 {[%clk 0:05:29.8]} 23... Rxg3+ {[%clk 0:16:33.1]} 24. hxg3 {[%clk 0:05:29.5]} 24... Qxg3+ {[%clk 0:16:41.5]} 25. Qg2 {[%clk 0:05:23.2]} 25... Qxd3 {[%clk 0:16:44.6]} 26. Nxa7 {[%clk 0:04:52.6]} 26... Rf3 {[%clk 0:16:50.3]} 27. Bf2 {[%clk 0:04:21]} 27... g3 {[%clk 0:13:55.6]} 28. Be1 {[%clk 0:04:03.8]} 28... Qe3+ {[%clk 0:13:53.8]} 29. Kh1 {[%clk 0:03:59.3]} 29... Rf4 {[%clk 0:13:58.8]} 30. Bxg3 {[%clk 0:03:46.7]} 30... Rf3 {[%clk 0:13:59.2]} 31. Re1 {[%clk 0:03:38.7]} 31... Qd3 {[%clk 0:13:41.1]} 32. Nc6 {[%clk 0:02:26.8]} 32... Qxd5 {[%clk 0:13:34.9]} 33. Nd4 {[%clk 0:02:27.1]} 33... g4 {[%clk 0:13:25.5]} 34. Nxf3 {[%clk 0:02:33.4]} 34... gxf3 {[%clk 0:13:27.5]} 35. Qf2 {[%clk 0:02:40.1]} 35... Qh5+ {[%clk 0:13:33]} 36. Kg1 {[%clk 0:02:39.9]} 36... Qd5 {[%clk 0:12:57.3]} 37. Rf1 {[%clk 0:02:19.3]} 37... c6 {[%clk 0:12:26.7]} 38. Qxf3 {[%clk 0:02:27.6]} 38... Qe6 {[%clk 0:12:15.6]} 39. Qf7+ {[%clk 0:02:31.1]} 39... Qxf7 {[%clk 0:12:22.2]} 40. Rxf7+ {[%clk 0:02:40.3]} 40... Kg6 {[%clk 0:12:30.4]} 41. Rc7 {[%clk 0:02:40.8]} 1-0\\n',\n",
       "  'time_control': '900+10',\n",
       "  'end_time': 1629943261,\n",
       "  'rated': True,\n",
       "  'accuracies': {'white': 87.17, 'black': 44.38},\n",
       "  'fen': '8/2R5/2pp2kp/1p6/8/2P3B1/PP6/6K1 b - -',\n",
       "  'time_class': 'rapid',\n",
       "  'rules': 'chess',\n",
       "  'white': {'rating': 1145,\n",
       "   'result': 'win',\n",
       "   '@id': 'https://api.chess.com/pub/player/vicalbiter',\n",
       "   'username': 'VicAlbiter'},\n",
       "  'black': {'rating': 1057,\n",
       "   'result': 'resigned',\n",
       "   '@id': 'https://api.chess.com/pub/player/whatthehell1',\n",
       "   'username': 'whatthehell1'}},\n",
       " {'url': 'https://www.chess.com/game/live/23682595521',\n",
       "  'pgn': '[Event \"Live Chess\"]\\n[Site \"Chess.com\"]\\n[Date \"2021.08.26\"]\\n[Round \"-\"]\\n[White \"VicAlbiter\"]\\n[Black \"ABong88\"]\\n[Result \"1-0\"]\\n[CurrentPosition \"1k4R1/8/1K6/8/8/8/8/8 b - -\"]\\n[Timezone \"UTC\"]\\n[ECO \"D10\"]\\n[ECOUrl \"https://www.chess.com/openings/Slav-Defense-3.Nc3\"]\\n[UTCDate \"2021.08.26\"]\\n[UTCTime \"02:05:15\"]\\n[WhiteElo \"1162\"]\\n[BlackElo \"1228\"]\\n[TimeControl \"900+10\"]\\n[Termination \"VicAlbiter won by checkmate\"]\\n[StartTime \"02:05:15\"]\\n[EndDate \"2021.08.26\"]\\n[EndTime \"02:56:12\"]\\n[Link \"https://www.chess.com/game/live/23682595521\"]\\n\\n1. d4 {[%clk 0:15:08.7]} 1... d5 {[%clk 0:15:08.6]} 2. c4 {[%clk 0:15:17]} 2... c6 {[%clk 0:15:17.5]} 3. Nc3 {[%clk 0:15:25.6]} 3... Bf5 {[%clk 0:15:17.3]} 4. e3 {[%clk 0:15:28.9]} 4... e6 {[%clk 0:15:14.2]} 5. Nf3 {[%clk 0:15:33.1]} 5... Nf6 {[%clk 0:14:13.9]} 6. cxd5 {[%clk 0:14:44.4]} 6... cxd5 {[%clk 0:14:19.5]} 7. Bd3 {[%clk 0:14:47.6]} 7... Bg4 {[%clk 0:13:46.4]} 8. h3 {[%clk 0:13:34.4]} 8... Bh5 {[%clk 0:13:54.6]} 9. Qb3 {[%clk 0:12:44.5]} 9... Bxf3 {[%clk 0:13:27.5]} 10. gxf3 {[%clk 0:12:22.8]} 10... Nbd7 {[%clk 0:12:50.7]} 11. Bd2 {[%clk 0:10:35]} 11... Rb8 {[%clk 0:12:29.4]} 12. e4 {[%clk 0:09:38.3]} 12... Qb6 {[%clk 0:11:21.3]} 13. Qxb6 {[%clk 0:09:14.2]} 13... Nxb6 {[%clk 0:11:31.2]} 14. e5 {[%clk 0:08:30.3]} 14... Nfd7 {[%clk 0:11:33.8]} 15. a3 {[%clk 0:08:38.4]} 15... Be7 {[%clk 0:11:41.7]} 16. Rg1 {[%clk 0:08:00.3]} 16... O-O {[%clk 0:11:47.4]} 17. Bh6 {[%clk 0:08:05.4]} 17... g6 {[%clk 0:09:46.4]} 18. Bxf8 {[%clk 0:08:09.7]} 18... Rxf8 {[%clk 0:09:56.3]} 19. Bb5 {[%clk 0:07:28.3]} 19... f6 {[%clk 0:09:36.1]} 20. Na4 {[%clk 0:06:38.9]} 20... fxe5 {[%clk 0:08:21.9]} 21. Nxb6 {[%clk 0:06:45.2]} 21... Nxb6 {[%clk 0:08:31.2]} 22. dxe5 {[%clk 0:05:49.4]} 22... Rxf3 {[%clk 0:08:35.5]} 23. Rg3 {[%clk 0:05:20.3]} 23... Rf5 {[%clk 0:07:58.5]} 24. Re3 {[%clk 0:04:59.2]} 24... Nc4 {[%clk 0:06:35.6]} 25. Bxc4 {[%clk 0:05:04.1]} 25... dxc4 {[%clk 0:06:45.5]} 26. Rd1 {[%clk 0:04:44.6]} 26... b5 {[%clk 0:05:29.5]} 27. Re4 {[%clk 0:03:56.3]} 27... Bc5 {[%clk 0:02:02]} 28. f4 {[%clk 0:02:53.2]} 28... Kg7 {[%clk 0:02:05.4]} 29. Rd7+ {[%clk 0:02:49.7]} 29... Kh6 {[%clk 0:02:13.6]} 30. Ke2 {[%clk 0:02:46.3]} 30... c3 {[%clk 0:01:23.8]} 31. bxc3 {[%clk 0:02:46.4]} 31... Bxa3 {[%clk 0:01:29]} 32. Rxa7 {[%clk 0:02:53]} 32... Bc5 {[%clk 0:01:37.3]} 33. Rb7 {[%clk 0:02:51.4]} 33... Rh5 {[%clk 0:01:22.1]} 34. Rxb5 {[%clk 0:02:57.6]} 34... Ba7 {[%clk 0:01:31.3]} 35. Ra4 {[%clk 0:02:36.3]} 35... Bg1 {[%clk 0:01:09.1]} 36. Ra6 {[%clk 0:02:15.7]} 36... Rxh3 {[%clk 0:01:02.6]} 37. Rxe6 {[%clk 0:02:01.8]} 37... Rxc3 {[%clk 0:00:29.6]} 38. f5 {[%clk 0:02:00.6]} 38... Rc2+ {[%clk 0:00:15.6]} 39. Kd1 {[%clk 0:02:02.9]} 39... Rg2 {[%clk 0:00:22.2]} 40. fxg6 {[%clk 0:02:09.6]} 40... hxg6 {[%clk 0:00:29.7]} 41. Rb7 {[%clk 0:01:40.7]} 41... Bh2 {[%clk 0:00:32.4]} 42. Rb1 {[%clk 0:01:17.7]} 42... Bf4 {[%clk 0:00:34.4]} 43. Rc6 {[%clk 0:00:55.2]} 43... Bxe5 {[%clk 0:00:31.1]} 44. Rb5 {[%clk 0:00:42.1]} 44... Bf4 {[%clk 0:00:30.8]} 45. Ke1 {[%clk 0:00:45.5]} 45... Ra2 {[%clk 0:00:24.4]} 46. Rb4 {[%clk 0:00:35.4]} 46... Bg5 {[%clk 0:00:31.6]} 47. Re4 {[%clk 0:00:40]} 47... Kh5 {[%clk 0:00:24.2]} 48. Rc8 {[%clk 0:00:35]} 48... Bh6 {[%clk 0:00:25.7]} 49. Re2 {[%clk 0:00:38.2]} 49... Rxe2+ {[%clk 0:00:24.8]} 50. Kxe2 {[%clk 0:00:46.7]} 50... g5 {[%clk 0:00:19]} 51. Kf3 {[%clk 0:00:52.3]} 51... g4+ {[%clk 0:00:27.7]} 52. Kg3 {[%clk 0:00:54.3]} 52... Bg5 {[%clk 0:00:13.9]} 53. Rc5 {[%clk 0:00:43.2]} 53... Kg6 {[%clk 0:00:11.7]} 54. Kxg4 {[%clk 0:00:45.6]} 54... Be3 {[%clk 0:00:20]} 55. Rc6+ {[%clk 0:00:49.8]} 55... Kf7 {[%clk 0:00:28.7]} 56. Kf5 {[%clk 0:00:57.7]} 56... Ke7 {[%clk 0:00:35.7]} 57. Ra6 {[%clk 0:01:05]} 57... Kd7 {[%clk 0:00:41.9]} 58. Ke5 {[%clk 0:01:11.9]} 58... Kc7 {[%clk 0:00:46.2]} 59. Kd5 {[%clk 0:01:19.3]} 59... Kb7 {[%clk 0:00:54.8]} 60. Rg6 {[%clk 0:01:25.2]} 60... Kc7 {[%clk 0:00:56.8]} 61. Re6 {[%clk 0:00:55.2]} 61... Bc1 {[%clk 0:00:43.8]} 62. Rc6+ {[%clk 0:00:31]} 62... Kd7 {[%clk 0:00:49.3]} 63. Rxc1 {[%clk 0:00:39.5]} 63... Ke7 {[%clk 0:00:58.3]} 64. Rc6 {[%clk 0:00:45]} 64... Kf7 {[%clk 0:01:05.9]} 65. Ke5 {[%clk 0:00:53.2]} 65... Kg7 {[%clk 0:01:12]} 66. Kf5 {[%clk 0:01:02.1]} 66... Kf8 {[%clk 0:01:15.4]} 67. Ke6 {[%clk 0:01:07.5]} 67... Kg7 {[%clk 0:01:24.3]} 68. Kf5 {[%clk 0:01:15.9]} 68... Kf8 {[%clk 0:01:32.6]} 69. Rc7 {[%clk 0:01:24.7]} 69... Ke8 {[%clk 0:01:41.3]} 70. Ke6 {[%clk 0:01:24.9]} 70... Kd8 {[%clk 0:01:49.3]} 71. Rg7 {[%clk 0:01:31.2]} 71... Kc8 {[%clk 0:01:56.8]} 72. Kd6 {[%clk 0:01:40.2]} 72... Kb8 {[%clk 0:02:05.2]} 73. Kc6 {[%clk 0:01:49.3]} 73... Ka8 {[%clk 0:02:14.5]} 74. Kb6 {[%clk 0:01:58.4]} 74... Kb8 {[%clk 0:02:23.3]} 75. Rg8# {[%clk 0:02:07.4]} 1-0\\n',\n",
       "  'time_control': '900+10',\n",
       "  'end_time': 1629946572,\n",
       "  'rated': True,\n",
       "  'accuracies': {'white': 83.14, 'black': 79.77},\n",
       "  'fen': '1k4R1/8/1K6/8/8/8/8/8 b - -',\n",
       "  'time_class': 'rapid',\n",
       "  'rules': 'chess',\n",
       "  'white': {'rating': 1162,\n",
       "   'result': 'win',\n",
       "   '@id': 'https://api.chess.com/pub/player/vicalbiter',\n",
       "   'username': 'VicAlbiter'},\n",
       "  'black': {'rating': 1228,\n",
       "   'result': 'checkmated',\n",
       "   '@id': 'https://api.chess.com/pub/player/abong88',\n",
       "   'username': 'ABong88'}},\n",
       " {'url': 'https://www.chess.com/game/live/23779040055',\n",
       "  'pgn': '[Event \"Live Chess\"]\\n[Site \"Chess.com\"]\\n[Date \"2021.08.27\"]\\n[Round \"-\"]\\n[White \"Raisingmoon\"]\\n[Black \"VicAlbiter\"]\\n[Result \"1-0\"]\\n[CurrentPosition \"8/3p2p1/4k2p/1R2r3/2b2P2/8/P5PP/3R2K1 w - -\"]\\n[Timezone \"UTC\"]\\n[ECO \"B33\"]\\n[ECOUrl \"https://www.chess.com/openings/Sicilian-Defense-Open-Pelikan-and-Sveshnikov-Schlechter-Variation\"]\\n[UTCDate \"2021.08.27\"]\\n[UTCTime \"04:54:52\"]\\n[WhiteElo \"1081\"]\\n[BlackElo \"1145\"]\\n[TimeControl \"900+10\"]\\n[Termination \"Raisingmoon won by resignation\"]\\n[StartTime \"04:54:52\"]\\n[EndDate \"2021.08.27\"]\\n[EndTime \"05:29:20\"]\\n[Link \"https://www.chess.com/game/live/23779040055\"]\\n\\n1. e4 {[%clk 0:15:08.8]} 1... c5 {[%clk 0:15:07.1]} 2. Nf3 {[%clk 0:15:17]} 2... Nc6 {[%clk 0:15:15]} 3. d4 {[%clk 0:15:22.5]} 3... cxd4 {[%clk 0:15:23]} 4. Nxd4 {[%clk 0:15:30.9]} 4... Nf6 {[%clk 0:15:30.8]} 5. Nc3 {[%clk 0:15:38.7]} 5... e5 {[%clk 0:15:37.2]} 6. Nb3 {[%clk 0:15:43.7]} 6... Bb4 {[%clk 0:14:50.3]} 7. Bd3 {[%clk 0:15:24.1]} 7... Nd4 {[%clk 0:14:04]} 8. O-O {[%clk 0:15:24.4]} 8... O-O {[%clk 0:12:34.3]} 9. Nxd4 {[%clk 0:15:19]} 9... exd4 {[%clk 0:12:35.9]} 10. Nb5 {[%clk 0:15:27.7]} 10... a6 {[%clk 0:11:45.5]} 11. Nxd4 {[%clk 0:15:30.4]} 11... Re8 {[%clk 0:11:26.9]} 12. c3 {[%clk 0:15:17.2]} 12... Bc5 {[%clk 0:10:53]} 13. Bg5 {[%clk 0:14:45.4]} 13... h6 {[%clk 0:10:22.1]} 14. Bh4 {[%clk 0:14:45.9]} 14... Bxd4 {[%clk 0:10:08.6]} 15. cxd4 {[%clk 0:14:44.7]} 15... Qb6 {[%clk 0:10:12.2]} 16. Bxf6 {[%clk 0:14:45.7]} 16... Qxf6 {[%clk 0:10:01.9]} 17. e5 {[%clk 0:14:49.7]} 17... Qb6 {[%clk 0:10:03.8]} 18. Be2 {[%clk 0:14:48.7]} 18... Qxb2 {[%clk 0:10:00.7]} 19. Qd3 {[%clk 0:10:46]} 19... Qb5 {[%clk 0:08:28.2]} 20. Qxb5 {[%clk 0:10:40.6]} 20... axb5 {[%clk 0:08:36.2]} 21. Bxb5 {[%clk 0:10:50.5]} 21... Ra5 {[%clk 0:08:36.6]} 22. Bd3 {[%clk 0:10:55.9]} 22... Ra4 {[%clk 0:08:14.3]} 23. Rfd1 {[%clk 0:10:36.5]} 23... Kh8 {[%clk 0:06:50.5]} 24. Bc2 {[%clk 0:06:11.2]} 24... Ra3 {[%clk 0:05:51.1]} 25. Bb3 {[%clk 0:06:03]} 25... Kg8 {[%clk 0:05:28.1]} 26. Rd3 {[%clk 0:05:34.1]} 26... b5 {[%clk 0:05:00.3]} 27. Bxf7+ {[%clk 0:05:32.2]} 27... Kxf7 {[%clk 0:05:09.3]} 28. Rxa3 {[%clk 0:05:40.5]} 28... Bb7 {[%clk 0:04:40.8]} 29. Rb3 {[%clk 0:05:30.2]} 29... Bc6 {[%clk 0:04:41]} 30. d5 {[%clk 0:05:35.3]} 30... Bxd5 {[%clk 0:04:46.8]} 31. Rxb5 {[%clk 0:05:42.7]} 31... Rxe5 {[%clk 0:04:55.5]} 32. Rd1 {[%clk 0:05:12.9]} 32... Ke6 {[%clk 0:03:58.4]} 33. f4 {[%clk 0:05:09]} 33... Bc4 {[%clk 0:02:06.5]} 1-0\\n',\n",
       "  'time_control': '900+10',\n",
       "  'end_time': 1630042160,\n",
       "  'rated': True,\n",
       "  'accuracies': {'white': 95.39, 'black': 63.17},\n",
       "  'fen': '8/3p2p1/4k2p/1R2r3/2b2P2/8/P5PP/3R2K1 w - -',\n",
       "  'time_class': 'rapid',\n",
       "  'rules': 'chess',\n",
       "  'white': {'rating': 1081,\n",
       "   'result': 'win',\n",
       "   '@id': 'https://api.chess.com/pub/player/raisingmoon',\n",
       "   'username': 'Raisingmoon'},\n",
       "  'black': {'rating': 1145,\n",
       "   'result': 'resigned',\n",
       "   '@id': 'https://api.chess.com/pub/player/vicalbiter',\n",
       "   'username': 'VicAlbiter'}},\n",
       " {'url': 'https://www.chess.com/game/live/23780881719',\n",
       "  'pgn': '[Event \"Live Chess\"]\\n[Site \"Chess.com\"]\\n[Date \"2021.08.27\"]\\n[Round \"-\"]\\n[White \"Kumarann\"]\\n[Black \"VicAlbiter\"]\\n[Result \"0-1\"]\\n[CurrentPosition \"8/8/6p1/3K3p/4r3/5k2/8/8 w - h6\"]\\n[Timezone \"UTC\"]\\n[ECO \"B21\"]\\n[ECOUrl \"https://www.chess.com/openings/Sicilian-Defense-Smith-Morra-Gambit-2...cxd4-3.Qxd4-Nc6-4.Qd1\"]\\n[UTCDate \"2021.08.27\"]\\n[UTCTime \"05:30:05\"]\\n[WhiteElo \"987\"]\\n[BlackElo \"1153\"]\\n[TimeControl \"900+10\"]\\n[Termination \"VicAlbiter won by resignation\"]\\n[StartTime \"05:30:05\"]\\n[EndDate \"2021.08.27\"]\\n[EndTime \"06:05:36\"]\\n[Link \"https://www.chess.com/game/live/23780881719\"]\\n\\n1. e4 {[%clk 0:15:08.5]} 1... c5 {[%clk 0:15:06.8]} 2. d4 {[%clk 0:15:13.5]} 2... cxd4 {[%clk 0:15:12]} 3. Qxd4 {[%clk 0:15:19]} 3... Nc6 {[%clk 0:15:20.7]} 4. Qd1 {[%clk 0:15:17.5]} 4... d6 {[%clk 0:15:17.5]} 5. Bb5 {[%clk 0:15:24.2]} 5... Bd7 {[%clk 0:15:09]} 6. f3 {[%clk 0:15:18.3]} 6... Nf6 {[%clk 0:14:51.7]} 7. Bxc6 {[%clk 0:15:24.5]} 7... Bxc6 {[%clk 0:14:59.1]} 8. Nc3 {[%clk 0:15:29.2]} 8... g6 {[%clk 0:14:45.7]} 9. Bd2 {[%clk 0:15:24.2]} 9... Bg7 {[%clk 0:14:53]} 10. Nce2 {[%clk 0:14:27]} 10... O-O {[%clk 0:15:00.9]} 11. Bc3 {[%clk 0:14:31.8]} 11... Rc8 {[%clk 0:14:24]} 12. Qd2 {[%clk 0:14:20.1]} 12... Re8 {[%clk 0:12:24.7]} 13. O-O-O {[%clk 0:13:51.6]} 13... e5 {[%clk 0:12:08.2]} 14. Qe3 {[%clk 0:13:39.4]} 14... Ra8 {[%clk 0:11:21.4]} 15. Bb4 {[%clk 0:13:41.1]} 15... Re6 {[%clk 0:10:06.1]} 16. Nh3 {[%clk 0:13:00.1]} 16... a5 {[%clk 0:09:41.9]} 17. Ng5 {[%clk 0:12:59.4]} 17... axb4 {[%clk 0:09:35.1]} 18. Nxe6 {[%clk 0:13:05.8]} 18... fxe6 {[%clk 0:09:41.2]} 19. Qb3 {[%clk 0:12:56.1]} 19... Qe7 {[%clk 0:07:27.6]} 20. Qxb4 {[%clk 0:13:00.6]} 20... Rxa2 {[%clk 0:07:35.5]} 21. Kb1 {[%clk 0:13:06.2]} 21... Ra6 {[%clk 0:06:54.9]} 22. g4 {[%clk 0:12:09.4]} 22... Bf8 {[%clk 0:06:29.2]} 23. g5 {[%clk 0:11:44.1]} 23... Nh5 {[%clk 0:06:25.6]} 24. h4 {[%clk 0:11:33.6]} 24... d5 {[%clk 0:06:04.4]} 25. Qxe7 {[%clk 0:11:24.9]} 25... Bxe7 {[%clk 0:06:13]} 26. exd5 {[%clk 0:11:32.9]} 26... Bxd5 {[%clk 0:06:07.1]} 27. Rhf1 {[%clk 0:11:28.5]} 27... Bc4 {[%clk 0:04:55.8]} 28. Rd2 {[%clk 0:11:29.6]} 28... Nf4 {[%clk 0:03:54]} 29. Re1 {[%clk 0:11:17.9]} 29... Nxe2 {[%clk 0:04:02.2]} 30. Rexe2 {[%clk 0:11:26.4]} 30... Bxe2 {[%clk 0:04:10.6]} 31. Rxe2 {[%clk 0:11:35]} 31... Rd6 {[%clk 0:04:05.2]} 32. Rxe5 {[%clk 0:11:42]} 32... Kf7 {[%clk 0:04:00.7]} 33. f4 {[%clk 0:11:42.6]} 33... Rd1+ {[%clk 0:04:05.6]} 34. Ka2 {[%clk 0:11:50.3]} 34... Bd6 {[%clk 0:04:03.1]} 35. Rb5 {[%clk 0:11:51.3]} 35... Bxf4 {[%clk 0:03:58.4]} 36. Rxb7+ {[%clk 0:11:53.4]} 36... Kg8 {[%clk 0:04:01.1]} 37. Rb4 {[%clk 0:11:39.3]} 37... Bd6 {[%clk 0:03:24.3]} 38. Re4 {[%clk 0:11:23.6]} 38... Kf7 {[%clk 0:03:24]} 39. c4 {[%clk 0:11:29.7]} 39... e5 {[%clk 0:03:19.3]} 40. b3 {[%clk 0:11:28]} 40... Rd4 {[%clk 0:03:14.9]} 41. Re2 {[%clk 0:11:23.4]} 41... e4 {[%clk 0:02:57.6]} 42. Rf2+ {[%clk 0:11:22.8]} 42... Ke6 {[%clk 0:02:59]} 43. Rf6+ {[%clk 0:11:30]} 43... Ke5 {[%clk 0:03:00.3]} 44. Kb2 {[%clk 0:11:15]} 44... e3 {[%clk 0:03:00]} 45. Rf1 {[%clk 0:11:01.5]} 45... e2 {[%clk 0:02:59.7]} 46. Re1 {[%clk 0:11:09.7]} 46... Re4 {[%clk 0:02:56.4]} 47. Kc3 {[%clk 0:11:17]} 47... Kf4 {[%clk 0:02:47.8]} 48. Kd3 {[%clk 0:11:23.2]} 48... Kf3 {[%clk 0:02:34.8]} 49. Kc3 {[%clk 0:10:57.8]} 49... Bg3 {[%clk 0:02:33.4]} 50. Rxe2 {[%clk 0:10:58]} 50... Rxe2 {[%clk 0:02:41.7]} 51. c5 {[%clk 0:11:05.8]} 51... Bc7 {[%clk 0:02:48.9]} 52. Kb4 {[%clk 0:11:10.5]} 52... Re4+ {[%clk 0:02:53.1]} 53. Kb5 {[%clk 0:11:18]} 53... Rxh4 {[%clk 0:02:55.4]} 54. c6 {[%clk 0:11:24.5]} 54... Rg4 {[%clk 0:02:51.4]} 55. Ka6 {[%clk 0:11:31]} 55... Rxg5 {[%clk 0:02:57.4]} 56. Kb7 {[%clk 0:11:38.6]} 56... Bd6 {[%clk 0:02:41.1]} 57. c7 {[%clk 0:11:35.7]} 57... Bxc7 {[%clk 0:02:49.4]} 58. Kxc7 {[%clk 0:11:41.2]} 58... Rb5 {[%clk 0:02:57.9]} 59. b4 {[%clk 0:11:48]} 59... Rxb4 {[%clk 0:03:07.6]} 60. Kc6 {[%clk 0:11:56.4]} 60... Re4 {[%clk 0:03:11.6]} 61. Kd5 {[%clk 0:12:05.1]} 61... h5 {[%clk 0:03:21.5]} 0-1\\n',\n",
       "  'time_control': '900+10',\n",
       "  'end_time': 1630044336,\n",
       "  'rated': True,\n",
       "  'accuracies': {'white': 74.6, 'black': 87.34},\n",
       "  'fen': '8/8/6p1/3K3p/4r3/5k2/8/8 w - h6',\n",
       "  'time_class': 'rapid',\n",
       "  'rules': 'chess',\n",
       "  'white': {'rating': 987,\n",
       "   'result': 'resigned',\n",
       "   '@id': 'https://api.chess.com/pub/player/kumarann',\n",
       "   'username': 'Kumarann'},\n",
       "  'black': {'rating': 1153,\n",
       "   'result': 'win',\n",
       "   '@id': 'https://api.chess.com/pub/player/vicalbiter',\n",
       "   'username': 'VicAlbiter'}},\n",
       " {'url': 'https://www.chess.com/game/live/23783253135',\n",
       "  'pgn': '[Event \"Live Chess\"]\\n[Site \"Chess.com\"]\\n[Date \"2021.08.27\"]\\n[Round \"-\"]\\n[White \"VicAlbiter\"]\\n[Black \"ceejrook\"]\\n[Result \"1-0\"]\\n[CurrentPosition \"3r1r2/p4pRk/1p3B2/2pB4/4P1P1/3P4/PP5P/R5K1 b - -\"]\\n[Timezone \"UTC\"]\\n[ECO \"C50\"]\\n[ECOUrl \"https://www.chess.com/openings/Italian-Game\"]\\n[UTCDate \"2021.08.27\"]\\n[UTCTime \"06:06:13\"]\\n[WhiteElo \"1162\"]\\n[BlackElo \"1044\"]\\n[TimeControl \"900+10\"]\\n[Termination \"VicAlbiter won - game abandoned\"]\\n[StartTime \"06:06:13\"]\\n[EndDate \"2021.08.27\"]\\n[EndTime \"06:25:31\"]\\n[Link \"https://www.chess.com/game/live/23783253135\"]\\n\\n1. e4 {[%clk 0:15:07.2]} 1... e5 {[%clk 0:15:07.3]} 2. Nf3 {[%clk 0:15:15.7]} 2... Nc6 {[%clk 0:15:13.9]} 3. Bc4 {[%clk 0:15:23.4]} 3... b6 {[%clk 0:14:54.6]} 4. O-O {[%clk 0:14:38.5]} 4... d6 {[%clk 0:14:50.5]} 5. d3 {[%clk 0:14:03.6]} 5... Nd4 {[%clk 0:14:39.4]} 6. Nxd4 {[%clk 0:13:35.8]} 6... exd4 {[%clk 0:14:38]} 7. c3 {[%clk 0:12:30.9]} 7... dxc3 {[%clk 0:14:27.7]} 8. Nxc3 {[%clk 0:12:39.2]} 8... Nf6 {[%clk 0:14:28.2]} 9. Bg5 {[%clk 0:12:38.5]} 9... g6 {[%clk 0:14:31.2]} 10. Nd5 {[%clk 0:12:42.4]} 10... Bg7 {[%clk 0:14:28]} 11. Qf3 {[%clk 0:11:22]} 11... Bg4 {[%clk 0:14:08.7]} 12. Nxf6+ {[%clk 0:10:52.2]} 12... Bxf6 {[%clk 0:14:06.9]} 13. Qxf6 {[%clk 0:10:38.1]} 13... Qxf6 {[%clk 0:13:54.2]} 14. Bxf6 {[%clk 0:10:46.2]} 14... O-O {[%clk 0:13:55]} 15. f4 {[%clk 0:10:06.4]} 15... Be2 {[%clk 0:13:05.6]} 16. Rf2 {[%clk 0:10:07.1]} 16... Bg4 {[%clk 0:13:06.2]} 17. f5 {[%clk 0:09:19.4]} 17... c5 {[%clk 0:13:00.8]} 18. fxg6 {[%clk 0:09:17.8]} 18... hxg6 {[%clk 0:12:34.2]} 19. Rf4 {[%clk 0:09:22.2]} 19... Bh5 {[%clk 0:12:25.1]} 20. g4 {[%clk 0:09:19.9]} 20... g5 {[%clk 0:12:30.9]} 21. Rf5 {[%clk 0:09:19.5]} 21... Bg6 {[%clk 0:12:36.7]} 22. Rxg5 {[%clk 0:09:23.6]} 22... d5 {[%clk 0:12:35.4]} 23. Bxd5 {[%clk 0:09:29]} 23... Rad8 {[%clk 0:12:33.4]} 24. Rxg6+ {[%clk 0:09:30.2]} 24... Kh7 {[%clk 0:12:37.3]} 25. Rg7+ {[%clk 0:08:29.6]} 1-0\\n',\n",
       "  'time_control': '900+10',\n",
       "  'end_time': 1630045531,\n",
       "  'rated': True,\n",
       "  'accuracies': {'white': 95.73, 'black': 62.08},\n",
       "  'fen': '3r1r2/p4pRk/1p3B2/2pB4/4P1P1/3P4/PP5P/R5K1 b - -',\n",
       "  'time_class': 'rapid',\n",
       "  'rules': 'chess',\n",
       "  'white': {'rating': 1162,\n",
       "   'result': 'win',\n",
       "   '@id': 'https://api.chess.com/pub/player/vicalbiter',\n",
       "   'username': 'VicAlbiter'},\n",
       "  'black': {'rating': 1044,\n",
       "   'result': 'abandoned',\n",
       "   '@id': 'https://api.chess.com/pub/player/ceejrook',\n",
       "   'username': 'ceejrook'}},\n",
       " {'url': 'https://www.chess.com/game/live/24102399745',\n",
       "  'pgn': '[Event \"Live Chess\"]\\n[Site \"Chess.com\"]\\n[Date \"2021.08.30\"]\\n[Round \"-\"]\\n[White \"grimmenace\"]\\n[Black \"VicAlbiter\"]\\n[Result \"1-0\"]\\n[CurrentPosition \"8/p2Pk2p/4N1p1/5p2/4p3/4K1P1/1P5P/3R4 b - -\"]\\n[Timezone \"UTC\"]\\n[ECO \"B30\"]\\n[ECOUrl \"https://www.chess.com/openings/Sicilian-Defense-Old-Sicilian-Variation\"]\\n[UTCDate \"2021.08.30\"]\\n[UTCTime \"22:40:12\"]\\n[WhiteElo \"1124\"]\\n[BlackElo \"1148\"]\\n[TimeControl \"900+10\"]\\n[Termination \"grimmenace won by resignation\"]\\n[StartTime \"22:40:12\"]\\n[EndDate \"2021.08.30\"]\\n[EndTime \"22:59:42\"]\\n[Link \"https://www.chess.com/game/live/24102399745\"]\\n\\n1. e4 {[%clk 0:15:10]} 1... c5 {[%clk 0:15:09]} 2. Nf3 {[%clk 0:15:16]} 2... Nc6 {[%clk 0:15:17.1]} 3. Bc4 {[%clk 0:15:24.4]} 3... d6 {[%clk 0:15:12.1]} 4. c3 {[%clk 0:15:32]} 4... g6 {[%clk 0:14:37.9]} 5. d4 {[%clk 0:15:38.5]} 5... cxd4 {[%clk 0:14:15.9]} 6. cxd4 {[%clk 0:15:45.9]} 6... e6 {[%clk 0:13:50.6]} 7. Qe2 {[%clk 0:15:52.2]} 7... Bg7 {[%clk 0:13:37]} 8. Be3 {[%clk 0:15:56.2]} 8... Nf6 {[%clk 0:12:15]} 9. Nc3 {[%clk 0:16:01.3]} 9... O-O {[%clk 0:12:23.1]} 10. O-O {[%clk 0:16:04.7]} 10... d5 {[%clk 0:11:33.7]} 11. exd5 {[%clk 0:16:07.8]} 11... exd5 {[%clk 0:11:39.8]} 12. Bb5 {[%clk 0:15:58.9]} 12... Re8 {[%clk 0:10:31.7]} 13. Bxc6 {[%clk 0:15:30.9]} 13... bxc6 {[%clk 0:10:35.8]} 14. Rfe1 {[%clk 0:15:25.3]} 14... Bh6 {[%clk 0:10:10.3]} 15. Qd2 {[%clk 0:15:05.5]} 15... Bxe3 {[%clk 0:09:47.4]} 16. Rxe3 {[%clk 0:14:56.1]} 16... Rxe3 {[%clk 0:08:36.1]} 17. fxe3 {[%clk 0:15:01.6]} 17... Ne4 {[%clk 0:08:33]} 18. Nxe4 {[%clk 0:15:07.5]} 18... dxe4 {[%clk 0:08:41.8]} 19. Ne5 {[%clk 0:15:12.3]} 19... c5 {[%clk 0:06:16.8]} 20. Rd1 {[%clk 0:15:15.4]} 20... cxd4 {[%clk 0:06:05.5]} 21. Qxd4 {[%clk 0:15:20.2]} 21... Qxd4 {[%clk 0:06:14]} 22. exd4 {[%clk 0:15:26.5]} 22... Be6 {[%clk 0:06:00.3]} 23. d5 {[%clk 0:15:33.3]} 23... Rd8 {[%clk 0:06:06.4]} 24. d6 {[%clk 0:15:38.3]} 24... Bxa2 {[%clk 0:06:03.8]} 25. d7 {[%clk 0:15:42.9]} 25... Be6 {[%clk 0:05:33.6]} 26. Kf2 {[%clk 0:15:46.9]} 26... Kf8 {[%clk 0:05:24.5]} 27. Ke3 {[%clk 0:15:50.9]} 27... f5 {[%clk 0:05:29.3]} 28. g3 {[%clk 0:15:55.3]} 28... Ke7 {[%clk 0:05:34.6]} 29. Nc6+ {[%clk 0:16:03.5]} 29... Kf8 {[%clk 0:04:54]} 30. Nxd8 {[%clk 0:16:01.4]} 30... Ke7 {[%clk 0:05:02.5]} 31. Nxe6 {[%clk 0:16:06.2]} 1-0\\n',\n",
       "  'time_control': '900+10',\n",
       "  'end_time': 1630364382,\n",
       "  'rated': True,\n",
       "  'accuracies': {'white': 84.49, 'black': 85.96},\n",
       "  'fen': '8/p2Pk2p/4N1p1/5p2/4p3/4K1P1/1P5P/3R4 b - -',\n",
       "  'time_class': 'rapid',\n",
       "  'rules': 'chess',\n",
       "  'white': {'rating': 1124,\n",
       "   'result': 'win',\n",
       "   '@id': 'https://api.chess.com/pub/player/grimmenace',\n",
       "   'username': 'grimmenace'},\n",
       "  'black': {'rating': 1148,\n",
       "   'result': 'resigned',\n",
       "   '@id': 'https://api.chess.com/pub/player/vicalbiter',\n",
       "   'username': 'VicAlbiter'}},\n",
       " {'url': 'https://www.chess.com/game/live/24103610441',\n",
       "  'pgn': '[Event \"Live Chess\"]\\n[Site \"Chess.com\"]\\n[Date \"2021.08.30\"]\\n[Round \"-\"]\\n[White \"matiasmuhilla\"]\\n[Black \"VicAlbiter\"]\\n[Result \"1-0\"]\\n[CurrentPosition \"8/6K1/p7/Pk5Q/8/8/8/8 b - -\"]\\n[Timezone \"UTC\"]\\n[ECO \"B23\"]\\n[ECOUrl \"https://www.chess.com/openings/Sicilian-Defense-Closed-Traditional-Line-3.Bb5\"]\\n[UTCDate \"2021.08.30\"]\\n[UTCTime \"23:01:00\"]\\n[WhiteElo \"1169\"]\\n[BlackElo \"1136\"]\\n[TimeControl \"900+10\"]\\n[Termination \"matiasmuhilla won by resignation\"]\\n[StartTime \"23:01:00\"]\\n[EndDate \"2021.08.30\"]\\n[EndTime \"23:46:08\"]\\n[Link \"https://www.chess.com/game/live/24103610441\"]\\n\\n1. e4 {[%clk 0:15:08]} 1... c5 {[%clk 0:15:08.3]} 2. Nc3 {[%clk 0:14:54.3]} 2... Nc6 {[%clk 0:15:12.9]} 3. Bb5 {[%clk 0:14:42.6]} 3... g6 {[%clk 0:14:37.9]} 4. Nf3 {[%clk 0:14:20.5]} 4... Bg7 {[%clk 0:14:34.8]} 5. d3 {[%clk 0:13:26.4]} 5... Nf6 {[%clk 0:14:41.3]} 6. O-O {[%clk 0:13:03.2]} 6... O-O {[%clk 0:14:48.1]} 7. Bxc6 {[%clk 0:13:02.2]} 7... dxc6 {[%clk 0:14:49.6]} 8. Be3 {[%clk 0:12:43.4]} 8... b6 {[%clk 0:14:22.3]} 9. h3 {[%clk 0:12:39.5]} 9... Ne8 {[%clk 0:13:44.8]} 10. Bf4 {[%clk 0:12:03.6]} 10... Nc7 {[%clk 0:13:19.8]} 11. Ne5 {[%clk 0:12:02]} 11... Bxe5 {[%clk 0:12:38.5]} 12. Bxe5 {[%clk 0:12:08.9]} 12... f6 {[%clk 0:12:33.4]} 13. Bf4 {[%clk 0:12:09]} 13... Ne6 {[%clk 0:12:40.8]} 14. Bh6 {[%clk 0:12:14.1]} 14... Rf7 {[%clk 0:12:35]} 15. Be3 {[%clk 0:11:54.6]} 15... Nd4 {[%clk 0:12:41.5]} 16. Ne2 {[%clk 0:11:26.7]} 16... e5 {[%clk 0:12:06.5]} 17. Nxd4 {[%clk 0:10:35.6]} 17... cxd4 {[%clk 0:12:14.5]} 18. Bh6 {[%clk 0:10:26.7]} 18... f5 {[%clk 0:11:05.5]} 19. f4 {[%clk 0:08:42.7]} 19... fxe4 {[%clk 0:07:42.6]} 20. fxe5 {[%clk 0:08:47.4]} 20... Rxf1+ {[%clk 0:07:45.6]} 21. Qxf1 {[%clk 0:08:54.9]} 21... e3 {[%clk 0:06:47.1]} 22. Qf3 {[%clk 0:07:58.3]} 22... Bb7 {[%clk 0:05:35.7]} 23. Rf1 {[%clk 0:07:52.7]} 23... Qe7 {[%clk 0:04:56.5]} 24. Qf6 {[%clk 0:06:03.6]} 24... Qxf6 {[%clk 0:03:07.2]} 25. exf6 {[%clk 0:06:09.8]} 25... Kf7 {[%clk 0:03:11.5]} 26. Bg5 {[%clk 0:05:18.9]} 26... Re8 {[%clk 0:03:12.1]} 27. Re1 {[%clk 0:05:26.2]} 27... e2 {[%clk 0:03:19.5]} 28. Kf2 {[%clk 0:05:31.7]} 28... c5 {[%clk 0:03:26.1]} 29. Rxe2 {[%clk 0:05:34.1]} 29... Rxe2+ {[%clk 0:03:34.7]} 30. Kxe2 {[%clk 0:05:42.9]} 30... Bxg2 {[%clk 0:03:43.4]} 31. h4 {[%clk 0:05:45.4]} 31... Bd5 {[%clk 0:03:43.4]} 32. a3 {[%clk 0:05:42.7]} 32... Ke6 {[%clk 0:03:41.5]} 33. c4 {[%clk 0:05:31.5]} 33... dxc3 {[%clk 0:03:35.1]} 34. bxc3 {[%clk 0:05:40.2]} 34... Kf5 {[%clk 0:03:40.9]} 35. c4 {[%clk 0:05:33.7]} 35... Bf7 {[%clk 0:03:38.3]} 36. Kf3 {[%clk 0:05:37]} 36... a6 {[%clk 0:03:17.7]} 37. a4 {[%clk 0:05:24.4]} 37... Ke5 {[%clk 0:03:14]} 38. Ke3 {[%clk 0:04:06.7]} 38... Kd6 {[%clk 0:03:01.1]} 39. Ke4 {[%clk 0:03:46.7]} 39... Ke6 {[%clk 0:03:00.2]} 40. d4 {[%clk 0:03:45.6]} 40... cxd4 {[%clk 0:02:48.1]} 41. Kxd4 {[%clk 0:03:53.7]} 41... Kd6 {[%clk 0:02:42]} 42. Bf4+ {[%clk 0:03:30.9]} 42... Ke6 {[%clk 0:02:12.7]} 43. Bg5 {[%clk 0:03:01.7]} 43... h5 {[%clk 0:01:49.9]} 44. c5 {[%clk 0:03:07]} 44... bxc5+ {[%clk 0:01:54.4]} 45. Kxc5 {[%clk 0:03:15.7]} 45... Kf5 {[%clk 0:01:38.7]} 46. Kb6 {[%clk 0:02:58.7]} 46... Bc4 {[%clk 0:01:46]} 47. Kc5 {[%clk 0:02:54.9]} 47... Bf7 {[%clk 0:01:48.4]} 48. a5 {[%clk 0:02:24.7]} 48... Ke5 {[%clk 0:01:24.7]} 49. Kc6 {[%clk 0:02:24.9]} 49... Bc4 {[%clk 0:01:19.6]} 50. Kd7 {[%clk 0:02:30.1]} 50... Bf7 {[%clk 0:00:54.2]} 51. Ke7 {[%clk 0:02:35.6]} 51... Bc4 {[%clk 0:00:55.5]} 52. f7 {[%clk 0:02:42.9]} 52... Bxf7 {[%clk 0:01:03.8]} 53. Kxf7 {[%clk 0:02:51.3]} 53... Kd5 {[%clk 0:01:08]} 54. Kxg6 {[%clk 0:02:53.2]} 54... Kc5 {[%clk 0:01:09.6]} 55. Kxh5 {[%clk 0:03:01.8]} 55... Kb5 {[%clk 0:01:18.4]} 56. Bd8 {[%clk 0:03:10.6]} 56... Kc6 {[%clk 0:01:27.3]} 57. Kg6 {[%clk 0:03:19.7]} 57... Kd7 {[%clk 0:01:36.3]} 58. h5 {[%clk 0:03:28.9]} 58... Ke8 {[%clk 0:01:45.3]} 59. Kg7 {[%clk 0:03:37.6]} 59... Kxd8 {[%clk 0:01:54.6]} 60. h6 {[%clk 0:03:46.6]} 60... Kc7 {[%clk 0:02:03.8]} 61. h7 {[%clk 0:03:55.8]} 61... Kc6 {[%clk 0:02:12.3]} 62. h8=Q {[%clk 0:04:00.1]} 62... Kb5 {[%clk 0:02:22.2]} 63. Qh5+ {[%clk 0:03:56.9]} 1-0\\n',\n",
       "  'time_control': '900+10',\n",
       "  'end_time': 1630367168,\n",
       "  'rated': True,\n",
       "  'accuracies': {'white': 94.68, 'black': 95.07},\n",
       "  'fen': '8/6K1/p7/Pk5Q/8/8/8/8 b - -',\n",
       "  'time_class': 'rapid',\n",
       "  'rules': 'chess',\n",
       "  'white': {'rating': 1169,\n",
       "   'result': 'win',\n",
       "   '@id': 'https://api.chess.com/pub/player/matiasmuhilla',\n",
       "   'username': 'matiasmuhilla'},\n",
       "  'black': {'rating': 1136,\n",
       "   'result': 'resigned',\n",
       "   '@id': 'https://api.chess.com/pub/player/vicalbiter',\n",
       "   'username': 'VicAlbiter'}},\n",
       " {'url': 'https://www.chess.com/game/live/24106079949',\n",
       "  'pgn': '[Event \"Live Chess\"]\\n[Site \"Chess.com\"]\\n[Date \"2021.08.30\"]\\n[Round \"-\"]\\n[White \"achilles1966\"]\\n[Black \"VicAlbiter\"]\\n[Result \"0-1\"]\\n[CurrentPosition \"8/8/6pp/1P4p1/6P1/P2k4/4p3/2K1Rr2 w - -\"]\\n[Timezone \"UTC\"]\\n[ECO \"D35\"]\\n[ECOUrl \"https://www.chess.com/openings/Queens-Gambit-Declined-Exchange-Positional-Line-5...Be7-6.e3-O-O-7.Bd3\"]\\n[UTCDate \"2021.08.30\"]\\n[UTCTime \"23:48:26\"]\\n[WhiteElo \"1180\"]\\n[BlackElo \"1149\"]\\n[TimeControl \"900+10\"]\\n[Termination \"VicAlbiter won by resignation\"]\\n[StartTime \"23:48:26\"]\\n[EndDate \"2021.08.31\"]\\n[EndTime \"00:15:56\"]\\n[Link \"https://www.chess.com/game/live/24106079949\"]\\n\\n1. d4 {[%clk 0:15:10]} 1... d5 {[%clk 0:15:08.4]} 2. c4 {[%clk 0:15:18.6]} 2... e6 {[%clk 0:15:16.7]} 3. Nc3 {[%clk 0:15:27.1]} 3... Nf6 {[%clk 0:15:24.8]} 4. cxd5 {[%clk 0:15:35.8]} 4... exd5 {[%clk 0:15:31]} 5. Bg5 {[%clk 0:15:43.6]} 5... Be7 {[%clk 0:15:38.7]} 6. e3 {[%clk 0:15:51.8]} 6... O-O {[%clk 0:15:46.5]} 7. Bd3 {[%clk 0:15:59.8]} 7... Nc6 {[%clk 0:15:29.5]} 8. a3 {[%clk 0:16:07.1]} 8... h6 {[%clk 0:15:10.2]} 9. Bh4 {[%clk 0:16:13.6]} 9... Re8 {[%clk 0:14:30.3]} 10. Nge2 {[%clk 0:16:13.8]} 10... Ne4 {[%clk 0:14:22]} 11. Nxe4 {[%clk 0:16:19.2]} 11... dxe4 {[%clk 0:14:17.3]} 12. Bxe7 {[%clk 0:16:27]} 12... Rxe7 {[%clk 0:14:25.8]} 13. Bc2 {[%clk 0:16:31.8]} 13... Bg4 {[%clk 0:14:10.6]} 14. h3 {[%clk 0:16:24.2]} 14... Bh5 {[%clk 0:14:09.5]} 15. g4 {[%clk 0:16:32.8]} 15... Bg6 {[%clk 0:14:13.5]} 16. Nf4 {[%clk 0:16:41.5]} 16... Qd6 {[%clk 0:11:59.2]} 17. Qd2 {[%clk 0:16:28.1]} 17... Rf8 {[%clk 0:10:34.1]} 18. O-O-O {[%clk 0:16:30.8]} 18... Nd8 {[%clk 0:10:30.9]} 19. Kb1 {[%clk 0:15:17.7]} 19... Ne6 {[%clk 0:10:34.3]} 20. Nxg6 {[%clk 0:15:23.2]} 20... fxg6 {[%clk 0:10:41.9]} 21. Bb3 {[%clk 0:15:27.8]} 21... Kh7 {[%clk 0:10:17.9]} 22. Bxe6 {[%clk 0:14:37.2]} 22... Rxe6 {[%clk 0:10:06.5]} 23. Rdf1 {[%clk 0:13:52.3]} 23... c5 {[%clk 0:09:03.5]} 24. d5 {[%clk 0:13:58.8]} 24... Re5 {[%clk 0:09:03.8]} 25. Rd1 {[%clk 0:13:58.7]} 25... b6 {[%clk 0:08:17.3]} 26. Rhf1 {[%clk 0:14:03.9]} 26... g5 {[%clk 0:08:17.7]} 27. Ka1 {[%clk 0:12:52.8]} 27... Rf3 {[%clk 0:06:45.1]} 28. Rh1 {[%clk 0:12:50]} 28... g6 {[%clk 0:05:22.3]} 29. Qe2 {[%clk 0:12:27.7]} 29... Rxd5 {[%clk 0:04:55.8]} 30. Rxd5 {[%clk 0:12:34.4]} 30... Qxd5 {[%clk 0:05:01.3]} 31. Rd1 {[%clk 0:12:29.3]} 31... Rxf2 {[%clk 0:04:48.7]} 32. Rxd5 {[%clk 0:12:24.6]} 32... Rxe2 {[%clk 0:04:57.5]} 33. Rd7+ {[%clk 0:12:33.1]} 33... Kg8 {[%clk 0:05:04.4]} 34. Rd8+ {[%clk 0:12:39.2]} 34... Kf7 {[%clk 0:05:13.2]} 35. Rd7+ {[%clk 0:12:47.9]} 35... Ke6 {[%clk 0:05:14.7]} 36. Rxa7 {[%clk 0:12:56.4]} 36... Rxe3 {[%clk 0:05:23.6]} 37. Rb7 {[%clk 0:13:03.3]} 37... Rxh3 {[%clk 0:04:20.5]} 38. Rxb6+ {[%clk 0:13:11.8]} 38... Kf7 {[%clk 0:04:28.9]} 39. Rb7+ {[%clk 0:13:17.9]} 39... Ke6 {[%clk 0:04:20.2]} 40. Rg7 {[%clk 0:13:19.4]} 40... Kf6 {[%clk 0:04:23.1]} 41. Rc7 {[%clk 0:13:27]} 41... e3 {[%clk 0:04:30.9]} 42. Rxc5 {[%clk 0:13:35.7]} 42... e2 {[%clk 0:04:33.2]} 43. Rc1 {[%clk 0:13:43.3]} 43... Re3 {[%clk 0:04:38.3]} 44. Re1 {[%clk 0:13:52]} 44... Ke5 {[%clk 0:04:44.2]} 45. Kb1 {[%clk 0:14:00.1]} 45... Kd4 {[%clk 0:04:45.3]} 46. Kc1 {[%clk 0:14:09.2]} 46... Kd3 {[%clk 0:04:54.1]} 47. b4 {[%clk 0:14:11.5]} 47... Rf3 {[%clk 0:04:52.2]} 48. b5 {[%clk 0:14:03.2]} 48... Rf1 {[%clk 0:04:58.1]} 0-1\\n',\n",
       "  'time_control': '900+10',\n",
       "  'end_time': 1630368956,\n",
       "  'rated': True,\n",
       "  'accuracies': {'white': 85.17, 'black': 90.73},\n",
       "  'fen': '8/8/6pp/1P4p1/6P1/P2k4/4p3/2K1Rr2 w - -',\n",
       "  'time_class': 'rapid',\n",
       "  'rules': 'chess',\n",
       "  'white': {'rating': 1180,\n",
       "   'result': 'resigned',\n",
       "   '@id': 'https://api.chess.com/pub/player/achilles1966',\n",
       "   'username': 'achilles1966'},\n",
       "  'black': {'rating': 1149,\n",
       "   'result': 'win',\n",
       "   '@id': 'https://api.chess.com/pub/player/vicalbiter',\n",
       "   'username': 'VicAlbiter'}},\n",
       " {'url': 'https://www.chess.com/game/live/24197281345',\n",
       "  'pgn': '[Event \"Live Chess\"]\\n[Site \"Chess.com\"]\\n[Date \"2021.09.01\"]\\n[Round \"-\"]\\n[White \"VicAlbiter\"]\\n[Black \"DarthWamba\"]\\n[Result \"1-0\"]\\n[CurrentPosition \"8/7R/3pN1p1/6Pk/2P1PR1p/8/7K/r7 b - -\"]\\n[Timezone \"UTC\"]\\n[ECO \"B40\"]\\n[ECOUrl \"https://www.chess.com/openings/Sicilian-Defense-French-Variation\"]\\n[UTCDate \"2021.09.01\"]\\n[UTCTime \"01:09:03\"]\\n[WhiteElo \"1162\"]\\n[BlackElo \"1197\"]\\n[TimeControl \"900+10\"]\\n[Termination \"VicAlbiter won by checkmate\"]\\n[StartTime \"01:09:03\"]\\n[EndDate \"2021.09.01\"]\\n[EndTime \"01:33:53\"]\\n[Link \"https://www.chess.com/game/live/24197281345\"]\\n\\n1. e4 {[%clk 0:15:08.3]} 1... e6 {[%clk 0:15:08.9]} 2. Nf3 {[%clk 0:15:06.5]} 2... c5 {[%clk 0:15:12.1]} 3. d4 {[%clk 0:15:01.9]} 3... Qc7 {[%clk 0:15:15.7]} 4. Nc3 {[%clk 0:14:09]} 4... cxd4 {[%clk 0:15:18.7]} 5. Nxd4 {[%clk 0:13:38]} 5... Bb4 {[%clk 0:15:24.2]} 6. Bd2 {[%clk 0:13:00.8]} 6... Bxc3 {[%clk 0:15:31.5]} 7. Bxc3 {[%clk 0:13:07]} 7... Nf6 {[%clk 0:15:40]} 8. Bd3 {[%clk 0:12:34.2]} 8... a6 {[%clk 0:15:32.5]} 9. O-O {[%clk 0:12:15]} 9... e5 {[%clk 0:15:39.6]} 10. Nf3 {[%clk 0:12:18]} 10... d6 {[%clk 0:15:47.2]} 11. Qd2 {[%clk 0:10:48.9]} 11... h6 {[%clk 0:15:38.3]} 12. h3 {[%clk 0:10:47.8]} 12... b5 {[%clk 0:15:38.4]} 13. a3 {[%clk 0:09:56.7]} 13... Bb7 {[%clk 0:15:45.7]} 14. Rfe1 {[%clk 0:09:57.2]} 14... Nbd7 {[%clk 0:15:52.1]} 15. b4 {[%clk 0:09:21.6]} 15... Rc8 {[%clk 0:15:37.5]} 16. Bb2 {[%clk 0:09:00.9]} 16... Nb6 {[%clk 0:15:44.2]} 17. Qe2 {[%clk 0:08:19.6]} 17... Na4 {[%clk 0:15:47]} 18. Rab1 {[%clk 0:07:31]} 18... Nxb2 {[%clk 0:15:36.2]} 19. Rxb2 {[%clk 0:07:38.2]} 19... a5 {[%clk 0:15:42.2]} 20. Bxb5+ {[%clk 0:07:34.8]} 20... Bc6 {[%clk 0:15:42.2]} 21. Bd3 {[%clk 0:07:27.6]} 21... axb4 {[%clk 0:15:42.4]} 22. axb4 {[%clk 0:07:35.2]} 22... O-O {[%clk 0:15:50.9]} 23. c4 {[%clk 0:07:15.2]} 23... Qb7 {[%clk 0:15:43]} 24. b5 {[%clk 0:07:05.6]} 24... Bxe4 {[%clk 0:15:51.2]} 25. Bxe4 {[%clk 0:07:04.3]} 25... Nxe4 {[%clk 0:15:56.5]} 26. Qxe4 {[%clk 0:07:12.8]} 26... Qxe4 {[%clk 0:16:04.5]} 27. Rxe4 {[%clk 0:07:21.3]} 27... f5 {[%clk 0:16:04.4]} 28. Rh4 {[%clk 0:06:57.7]} 28... e4 {[%clk 0:16:08.8]} 29. Nd2 {[%clk 0:07:03.3]} 29... Rfd8 {[%clk 0:15:26.4]} 30. Rf4 {[%clk 0:06:41.7]} 30... g6 {[%clk 0:15:33.5]} 31. g4 {[%clk 0:06:40.9]} 31... fxg4 {[%clk 0:15:19.6]} 32. hxg4 {[%clk 0:06:45.9]} 32... e3 {[%clk 0:15:23.4]} 33. fxe3 {[%clk 0:06:47.6]} 33... Re8 {[%clk 0:15:31.2]} 34. e4 {[%clk 0:06:52.7]} 34... Re5 {[%clk 0:15:36.5]} 35. b6 {[%clk 0:06:41.9]} 35... h5 {[%clk 0:15:38.7]} 36. b7 {[%clk 0:06:42]} 36... Rb8 {[%clk 0:15:47.7]} 37. Nf3 {[%clk 0:06:13.6]} 37... Ra5 {[%clk 0:15:50.1]} 38. Nd4 {[%clk 0:05:46.7]} 38... h4 {[%clk 0:15:51.2]} 39. Nc6 {[%clk 0:05:53.7]} 39... Ra1+ {[%clk 0:16:00]} 40. Kh2 {[%clk 0:05:53.3]} 40... Re8 {[%clk 0:15:57]} 41. b8=Q {[%clk 0:05:58]} 41... Rxb8 {[%clk 0:16:05.7]} 42. Rxb8+ {[%clk 0:06:00.3]} 42... Kg7 {[%clk 0:16:14.8]} 43. Rb7+ {[%clk 0:05:41.3]} 43... Kh6 {[%clk 0:16:23.2]} 44. Nd4 {[%clk 0:04:56.5]} 44... Kg5 {[%clk 0:16:28.7]} 45. Ne6+ {[%clk 0:04:50.6]} 45... Kh6 {[%clk 0:16:28.1]} 46. g5+ {[%clk 0:04:30.4]} 46... Kh5 {[%clk 0:16:25.9]} 47. Rh7# {[%clk 0:04:37.4]} 1-0\\n',\n",
       "  'time_control': '900+10',\n",
       "  'end_time': 1630460033,\n",
       "  'rated': True,\n",
       "  'accuracies': {'white': 84.19, 'black': 49.94},\n",
       "  'fen': '8/7R/3pN1p1/6Pk/2P1PR1p/8/7K/r7 b - -',\n",
       "  'time_class': 'rapid',\n",
       "  'rules': 'chess',\n",
       "  'white': {'rating': 1162,\n",
       "   'result': 'win',\n",
       "   '@id': 'https://api.chess.com/pub/player/vicalbiter',\n",
       "   'username': 'VicAlbiter'},\n",
       "  'black': {'rating': 1197,\n",
       "   'result': 'checkmated',\n",
       "   '@id': 'https://api.chess.com/pub/player/darthwamba',\n",
       "   'username': 'DarthWamba'}}]"
      ]
     },
     "execution_count": 139,
     "metadata": {},
     "output_type": "execute_result"
    }
   ],
   "source": [
    "response.json['games']"
   ]
  },
  {
   "cell_type": "code",
   "execution_count": 140,
   "id": "5b16025d",
   "metadata": {},
   "outputs": [],
   "source": [
    "game_pgn = response.json['games'][0]['pgn']"
   ]
  },
  {
   "cell_type": "code",
   "execution_count": 141,
   "id": "702d13ce",
   "metadata": {},
   "outputs": [
    {
     "data": {
      "text/plain": [
       "'[Event \"Live Chess\"]\\n[Site \"Chess.com\"]\\n[Date \"2021.08.20\"]\\n[Round \"-\"]\\n[White \"VicAlbiter\"]\\n[Black \"rempog_krna\"]\\n[Result \"0-1\"]\\n[CurrentPosition \"r1bqk2r/ppp2ppp/2n1p3/8/Q1BPn3/2P1PN2/P2B1PPP/R4RK1 w kq -\"]\\n[Timezone \"UTC\"]\\n[ECO \"D20\"]\\n[ECOUrl \"https://www.chess.com/openings/Queens-Gambit-Accepted-3.Nc3-Nf6\"]\\n[UTCDate \"2021.08.20\"]\\n[UTCTime \"07:26:46\"]\\n[WhiteElo \"1118\"]\\n[BlackElo \"1185\"]\\n[TimeControl \"900+10\"]\\n[Termination \"rempog_krna won - game abandoned\"]\\n[StartTime \"07:26:46\"]\\n[EndDate \"2021.08.20\"]\\n[EndTime \"07:36:37\"]\\n[Link \"https://www.chess.com/game/live/23183413127\"]\\n\\n1. d4 {[%clk 0:15:04.3]} 1... d5 {[%clk 0:15:00.1]} 2. c4 {[%clk 0:15:12]} 2... Nf6 {[%clk 0:15:04.7]} 3. Nc3 {[%clk 0:15:17.8]} 3... dxc4 {[%clk 0:15:08.1]} 4. e3 {[%clk 0:15:25.5]} 4... Nc6 {[%clk 0:15:04.2]} 5. Bxc4 {[%clk 0:15:31]} 5... e6 {[%clk 0:15:03.9]} 6. Nf3 {[%clk 0:15:28.1]} 6... Bb4 {[%clk 0:15:09.5]} 7. O-O {[%clk 0:15:27.9]} 7... Bxc3 {[%clk 0:15:15.6]} 8. bxc3 {[%clk 0:15:35.3]} 8... Ne4 {[%clk 0:15:22.4]} 9. Bd2 {[%clk 0:13:55.2]} 9... Na5 {[%clk 0:15:23.8]} 10. Qa4+ {[%clk 0:12:48.2]} 10... Nc6 {[%clk 0:15:20.9]} 0-1\\n'"
      ]
     },
     "execution_count": 141,
     "metadata": {},
     "output_type": "execute_result"
    }
   ],
   "source": [
    "game_pgn"
   ]
  },
  {
   "cell_type": "code",
   "execution_count": 142,
   "id": "60ffc73b",
   "metadata": {},
   "outputs": [],
   "source": [
    "import chess.pgn\n",
    "import io"
   ]
  },
  {
   "cell_type": "code",
   "execution_count": 143,
   "id": "d41e9605",
   "metadata": {},
   "outputs": [],
   "source": [
    "pgn = io.StringIO(game_pgn)\n",
    "game = chess.pgn.read_game(pgn)"
   ]
  },
  {
   "cell_type": "code",
   "execution_count": 144,
   "id": "24eacbe1",
   "metadata": {},
   "outputs": [
    {
     "data": {
      "text/plain": [
       "'900+10'"
      ]
     },
     "execution_count": 144,
     "metadata": {},
     "output_type": "execute_result"
    }
   ],
   "source": [
    "game.headers['TimeControl']"
   ]
  },
  {
   "cell_type": "code",
   "execution_count": 146,
   "id": "3b2b62e3",
   "metadata": {},
   "outputs": [
    {
     "data": {
      "text/plain": [
       "'D20'"
      ]
     },
     "execution_count": 146,
     "metadata": {},
     "output_type": "execute_result"
    }
   ],
   "source": [
    "game.headers['ECO']"
   ]
  },
  {
   "cell_type": "code",
   "execution_count": 148,
   "id": "302f1785",
   "metadata": {},
   "outputs": [
    {
     "data": {
      "text/plain": [
       "Headers(Event='Live Chess', Site='Chess.com', Date='2021.08.20', Round='-', White='VicAlbiter', Black='rempog_krna', Result='0-1', BlackElo='1185', CurrentPosition='r1bqk2r/ppp2ppp/2n1p3/8/Q1BPn3/2P1PN2/P2B1PPP/R4RK1 w kq -', ECO='D20', ECOUrl='https://www.chess.com/openings/Queens-Gambit-Accepted-3.Nc3-Nf6', EndDate='2021.08.20', EndTime='07:36:37', Link='https://www.chess.com/game/live/23183413127', StartTime='07:26:46', Termination='rempog_krna won - game abandoned', TimeControl='900+10', Timezone='UTC', UTCDate='2021.08.20', UTCTime='07:26:46', WhiteElo='1118')"
      ]
     },
     "execution_count": 148,
     "metadata": {},
     "output_type": "execute_result"
    }
   ],
   "source": [
    "game.headers"
   ]
  },
  {
   "cell_type": "code",
   "execution_count": 238,
   "id": "b497b394",
   "metadata": {},
   "outputs": [],
   "source": [
    "moves = []\n",
    "for move in game.mainline_moves():\n",
    "    moves.append(move.uci())"
   ]
  },
  {
   "cell_type": "code",
   "execution_count": 239,
   "id": "e8d8fa2f",
   "metadata": {},
   "outputs": [
    {
     "data": {
      "text/plain": [
       "['d2d4',\n",
       " 'd7d5',\n",
       " 'c2c4',\n",
       " 'g8f6',\n",
       " 'b1c3',\n",
       " 'd5c4',\n",
       " 'e2e3',\n",
       " 'b8c6',\n",
       " 'f1c4',\n",
       " 'e7e6',\n",
       " 'g1f3',\n",
       " 'f8b4',\n",
       " 'e1g1',\n",
       " 'b4c3',\n",
       " 'b2c3',\n",
       " 'f6e4',\n",
       " 'c1d2',\n",
       " 'c6a5',\n",
       " 'd1a4',\n",
       " 'a5c6']"
      ]
     },
     "execution_count": 239,
     "metadata": {},
     "output_type": "execute_result"
    }
   ],
   "source": [
    "moves"
   ]
  },
  {
   "cell_type": "code",
   "execution_count": 86,
   "id": "cf1aa4c2",
   "metadata": {},
   "outputs": [
    {
     "name": "stdout",
     "output_type": "stream",
     "text": [
      "Progress: 100 of 100 users fetched\n",
      "---\n"
     ]
    }
   ],
   "source": [
    "users_games = get_club_members_monthly_games(members[0:100], '2021', '08')"
   ]
  },
  {
   "cell_type": "code",
   "execution_count": 16,
   "id": "c5b0dd97",
   "metadata": {},
   "outputs": [
    {
     "ename": "NameError",
     "evalue": "name 'users_games' is not defined",
     "output_type": "error",
     "traceback": [
      "\u001b[1;31m---------------------------------------------------------------------------\u001b[0m",
      "\u001b[1;31mNameError\u001b[0m                                 Traceback (most recent call last)",
      "\u001b[1;32m~\\AppData\\Local\\Temp/ipykernel_14276/2780284069.py\u001b[0m in \u001b[0;36m<module>\u001b[1;34m\u001b[0m\n\u001b[1;32m----> 1\u001b[1;33m \u001b[0musers_games\u001b[0m\u001b[1;33m[\u001b[0m\u001b[1;36m85\u001b[0m\u001b[1;33m]\u001b[0m\u001b[1;33m\u001b[0m\u001b[1;33m\u001b[0m\u001b[0m\n\u001b[0m",
      "\u001b[1;31mNameError\u001b[0m: name 'users_games' is not defined"
     ]
    }
   ],
   "source": [
    "users_games[85]"
   ]
  },
  {
   "cell_type": "code",
   "execution_count": 51,
   "id": "43f9734b",
   "metadata": {},
   "outputs": [],
   "source": [
    "with open('games_db/members_games_chess-school_46000_46999.txt') as json_file:\n",
    "    test_read2 = json.load(json_file)\n",
    "    "
   ]
  },
  {
   "cell_type": "code",
   "execution_count": 52,
   "id": "53bf3196",
   "metadata": {},
   "outputs": [
    {
     "name": "stdout",
     "output_type": "stream",
     "text": [
      "{'username': 'suryakingenstein', 'games': []}\n"
     ]
    }
   ],
   "source": [
    "for user in test_read2:\n",
    "    if user['username'] == 'suryakingenstein':\n",
    "        print(user)\n",
    "        "
   ]
  },
  {
   "cell_type": "code",
   "execution_count": 36,
   "id": "cdbbf176",
   "metadata": {},
   "outputs": [
    {
     "data": {
      "text/plain": [
       "{'username': '-donovan-',\n",
       " 'games': [{'url': 'https://www.chess.com/game/daily/340381275',\n",
       "   'pgn': '[Event \"Let\\'s Play!\"]\\n[Site \"Chess.com\"]\\n[Date \"2021.06.16\"]\\n[Round \"-\"]\\n[White \"-Donovan-\"]\\n[Black \"Steelman420\"]\\n[Result \"1-0\"]\\n[CurrentPosition \"5r1r/2q4k/p2pQ1n1/1pp2P1N/4P2b/P2P3R/1PP3PP/R5K1 b - - 0 29\"]\\n[Timezone \"UTC\"]\\n[ECO \"B20\"]\\n[ECOUrl \"https://www.chess.com/openings/Sicilian-Defense-Bowdler-Attack\"]\\n[UTCDate \"2021.06.16\"]\\n[UTCTime \"06:02:49\"]\\n[WhiteElo \"1519\"]\\n[BlackElo \"1370\"]\\n[TimeControl \"1/432000\"]\\n[Termination \"-Donovan- won by resignation\"]\\n[StartTime \"06:02:49\"]\\n[EndDate \"2021.08.14\"]\\n[EndTime \"19:28:53\"]\\n[Link \"https://www.chess.com/game/daily/340381275\"]\\n\\n1. e4 {[%clk 115:57:15]} 1... c5 {[%clk 104:08:04]} 2. Bc4 {[%clk 100:26:05]} 2... d6 {[%clk 114:21:52]} 3. Nf3 {[%clk 113:28:34]} 3... a6 {[%clk 105:55:20]} 4. Nc3 {[%clk 109:49:52]} 4... e6 {[%clk 36:26:39]} 5. d3 {[%clk 55:34:35]} 5... Nd7 {[%clk 88:44:49]} 6. O-O {[%clk 76:49:47]} 6... b5 {[%clk 113:56:36]} 7. Bb3 {[%clk 117:37:18]} 7... Be7 {[%clk 98:27:34]} 8. a3 {[%clk 115:17:30]} 8... Ngf6 {[%clk 100:26:16]} 9. Bg5 {[%clk 85:12:53]} 9... O-O {[%clk 113:18:17]} 10. Ne2 {[%clk 84:31:39]} 10... Bb7 {[%clk 112:35:31]} 11. Ng3 {[%clk 30:21:59]} 11... h6 {[%clk 102:56:06]} 12. Bh4 {[%clk 56:27:05]} 12... Qc7 {[%clk 107:35:42]} 13. Qe2 {[%clk 62:37:44]} 13... g5 {[%clk 44:19:55]} 14. Bxg5 {[%clk 119:41:39]} 14... hxg5 {[%clk 119:23:03]} 15. Nxg5 {[%clk 119:58:49]} 15... Kh8 {[%clk 119:59:42]} 16. Bxe6 {[%clk 119:59:21]} 16... Ne5 {[%clk 119:59:24]} 17. Nh5 {[%clk 119:48:37]} 17... Nh7 {[%clk 119:49:05]} 18. Nxh7 {[%clk 119:48:36]} 18... Kxh7 {[%clk 109:41:45]} 19. Bf5+ {[%clk 116:14:36]} 19... Ng6 {[%clk 111:58:18]} 20. Qg4 {[%clk 70:25:17]} 20... Rg8 {[%clk 89:32:40]} 21. Qh3 {[%clk 111:23:47]} 21... Rh8 {[%clk 111:26:48]} 22. Qg4 {[%clk 7:03:21]} 22... Rhg8 {[%clk 106:09:00]} 23. f4 {[%clk 99:22:51]} 23... Bc8 {[%clk 114:53:32]} 24. Qh3 {[%clk 7:15:15]} 24... Rh8 {[%clk 111:43:28]} 25. Rf3 {[%clk 55:03:42]} 25... Be6 {[%clk 73:38:52]} 26. Bxe6 {[%clk 40:23:48]} 26... fxe6 {[%clk 119:44:00]} 27. Qxe6 {[%clk 84:54:24]} 27... Raf8 {[%clk 118:37:49]} 28. Rh3 {[%clk 118:48:57]} 28... Bh4 {[%clk 119:17:09]} 29. f5 {[%clk 118:44:27]} 1-0\\n',\n",
       "   'time_control': '1/432000',\n",
       "   'end_time': 1628969333,\n",
       "   'rated': True,\n",
       "   'accuracies': {'white': 69.08, 'black': 64.54},\n",
       "   'fen': '5r1r/2q4k/p2pQ1n1/1pp2P1N/4P2b/P2P3R/1PP3PP/R5K1 b - - 0 29',\n",
       "   'start_time': 1623823369,\n",
       "   'time_class': 'daily',\n",
       "   'rules': 'chess',\n",
       "   'white': {'rating': 1519,\n",
       "    'result': 'win',\n",
       "    '@id': 'https://api.chess.com/pub/player/-donovan-',\n",
       "    'username': '-Donovan-'},\n",
       "   'black': {'rating': 1370,\n",
       "    'result': 'resigned',\n",
       "    '@id': 'https://api.chess.com/pub/player/steelman420',\n",
       "    'username': 'Steelman420'}},\n",
       "  {'url': 'https://www.chess.com/game/daily/351272929',\n",
       "   'pgn': '[Event \"Let\\'s Play!\"]\\n[Site \"Chess.com\"]\\n[Date \"2021.08.14\"]\\n[Round \"-\"]\\n[White \"Steelman420\"]\\n[Black \"-Donovan-\"]\\n[Result \"1-0\"]\\n[CurrentPosition \"rn2k2r/1pN1bppp/8/2Pp4/1p1Pp3/4P2P/P2B1PP1/1R2K2R b Kkq - 1 17\"]\\n[Timezone \"UTC\"]\\n[ECO \"D10\"]\\n[ECOUrl \"https://www.chess.com/openings/Slav-Defense\"]\\n[UTCDate \"2021.08.14\"]\\n[UTCTime \"19:29:24\"]\\n[WhiteElo \"1399\"]\\n[BlackElo \"1499\"]\\n[TimeControl \"1/432000\"]\\n[Termination \"Steelman420 won by resignation\"]\\n[StartTime \"19:29:24\"]\\n[EndDate \"2021.08.20\"]\\n[EndTime \"00:51:00\"]\\n[Link \"https://www.chess.com/game/daily/351272929\"]\\n\\n1. d4 {[%clk 118:49:41]} 1... d5 {[%clk 119:55:09]} 2. c4 {[%clk 119:53:32]} 2... c6 {[%clk 119:57:08]} 3. Qd2 {[%clk 119:49:06]} 3... Nf6 {[%clk 97:48:06]} 4. h3 {[%clk 119:49:10]} 4... Ne4 {[%clk 119:44:02]} 5. Qc2 {[%clk 119:52:16]} 5... Bf5 {[%clk 119:52:03]} 6. Qb3 {[%clk 119:57:23]} 6... Nd6 {[%clk 119:50:34]} 7. c5 {[%clk 119:48:46]} 7... Nb5 {[%clk 119:05:55]} 8. e3 {[%clk 118:06:13]} 8... Bxb1 {[%clk 78:46:41]} 9. Rxb1 {[%clk 114:01:46]} 9... e5 {[%clk 108:39:44]} 10. Bxb5 {[%clk 108:31:50]} 10... Qa5+ {[%clk 119:27:46]} 11. Bd2 {[%clk 119:57:08]} 11... Qxb5 {[%clk 119:59:43]} 12. Qxb5 {[%clk 119:59:52]} 12... cxb5 {[%clk 119:59:57]} 13. b4 {[%clk 119:59:54]} 13... e4 {[%clk 119:59:49]} 14. Ne2 {[%clk 119:59:46]} 14... Be7 {[%clk 119:59:33]} 15. Nc3 {[%clk 119:59:51]} 15... a5 {[%clk 118:47:19]} 16. Nxb5 {[%clk 117:33:01]} 16... axb4 {[%clk 107:53:58]} 17. Nc7+ {[%clk 111:35:16]} 1-0\\n',\n",
       "   'time_control': '1/432000',\n",
       "   'end_time': 1629420660,\n",
       "   'rated': True,\n",
       "   'accuracies': {'white': 87.7, 'black': 70.34},\n",
       "   'fen': 'rn2k2r/1pN1bppp/8/2Pp4/1p1Pp3/4P2P/P2B1PP1/1R2K2R b Kkq - 1 17',\n",
       "   'start_time': 1628969364,\n",
       "   'time_class': 'daily',\n",
       "   'rules': 'chess',\n",
       "   'white': {'rating': 1399,\n",
       "    'result': 'win',\n",
       "    '@id': 'https://api.chess.com/pub/player/steelman420',\n",
       "    'username': 'Steelman420'},\n",
       "   'black': {'rating': 1499,\n",
       "    'result': 'resigned',\n",
       "    '@id': 'https://api.chess.com/pub/player/-donovan-',\n",
       "    'username': '-Donovan-'}}]}"
      ]
     },
     "execution_count": 36,
     "metadata": {},
     "output_type": "execute_result"
    }
   ],
   "source": [
    "test_read2[0]"
   ]
  },
  {
   "cell_type": "code",
   "execution_count": 56,
   "id": "19e06dcb",
   "metadata": {},
   "outputs": [
    {
     "name": "stdout",
     "output_type": "stream",
     "text": [
      "312\n"
     ]
    }
   ],
   "source": [
    "n = 0\n",
    "for user in test_read2:\n",
    "    this_user_games = 0\n",
    "    for game in user['games']:\n",
    "        time_controls = game['time_class']\n",
    "        white_rating = game['white']['rating']\n",
    "        if time_controls == 'rapid' and white_rating > 1000 and white_rating < 1200 and this_user_games < 5:\n",
    "            n += 1\n",
    "            this_user_games += 1\n",
    "print(n)"
   ]
  },
  {
   "cell_type": "code",
   "execution_count": 53,
   "id": "9195334f",
   "metadata": {},
   "outputs": [],
   "source": [
    "total_games = read_from_files('games_db')"
   ]
  },
  {
   "cell_type": "code",
   "execution_count": 44,
   "id": "306fac8a",
   "metadata": {},
   "outputs": [
    {
     "data": {
      "text/plain": [
       "{'username': 'suryakingenstein', 'games': None}"
      ]
     },
     "execution_count": 44,
     "metadata": {},
     "output_type": "execute_result"
    }
   ],
   "source": [
    "total_games[41688]"
   ]
  },
  {
   "cell_type": "code",
   "execution_count": 118,
   "id": "4014868b",
   "metadata": {},
   "outputs": [
    {
     "name": "stdout",
     "output_type": "stream",
     "text": [
      "132356\n",
      "2151093\n"
     ]
    }
   ],
   "source": [
    "n = 0\n",
    "g = 0\n",
    "for user in total_games:\n",
    "    this_user_games = 0\n",
    "    if 'games' in user.keys():\n",
    "        for game in user['games']:\n",
    "            g += 1\n",
    "            time_controls = game['time_class']\n",
    "            white_rating = game['white']['rating']\n",
    "            if time_controls == 'rapid' and white_rating > 1000 and white_rating < 1200:\n",
    "                n += 1\n",
    "                this_user_games += 1\n",
    "print(n)\n",
    "print(g)"
   ]
  },
  {
   "cell_type": "code",
   "execution_count": 240,
   "id": "e4e04270",
   "metadata": {},
   "outputs": [],
   "source": [
    "%run collect.py\n",
    "%run process.py"
   ]
  },
  {
   "cell_type": "code",
   "execution_count": 245,
   "id": "6c54982e",
   "metadata": {
    "scrolled": true
   },
   "outputs": [
    {
     "name": "stdout",
     "output_type": "stream",
     "text": [
      "Progress: 53735 of 53736\r"
     ]
    }
   ],
   "source": [
    "games_table = build_games_simplified_table(total_games)"
   ]
  },
  {
   "cell_type": "code",
   "execution_count": 246,
   "id": "e15d2534",
   "metadata": {},
   "outputs": [],
   "source": [
    "gamesdf = pd.DataFrame(games_table)"
   ]
  },
  {
   "cell_type": "code",
   "execution_count": 259,
   "id": "8dbd238d",
   "metadata": {},
   "outputs": [
    {
     "data": {
      "text/plain": [
       "A00    7222\n",
       "D00    5914\n",
       "C20    5362\n",
       "B01    5081\n",
       "A40    4955\n",
       "       ... \n",
       "E43       1\n",
       "D81       1\n",
       "B57       1\n",
       "E26       1\n",
       "D27       1\n",
       "Name: ECO, Length: 351, dtype: int64"
      ]
     },
     "execution_count": 259,
     "metadata": {},
     "output_type": "execute_result"
    }
   ],
   "source": [
    "gamesdf['ECO'].value_counts()"
   ]
  },
  {
   "cell_type": "code",
   "execution_count": 249,
   "id": "e045ebd8",
   "metadata": {},
   "outputs": [],
   "source": [
    "gamesdf.to_csv(\"sparse_games_db.csv\")"
   ]
  }
 ],
 "metadata": {
  "kernelspec": {
   "display_name": "Python 3 (ipykernel)",
   "language": "python",
   "name": "python3"
  },
  "language_info": {
   "codemirror_mode": {
    "name": "ipython",
    "version": 3
   },
   "file_extension": ".py",
   "mimetype": "text/x-python",
   "name": "python",
   "nbconvert_exporter": "python",
   "pygments_lexer": "ipython3",
   "version": "3.9.7"
  }
 },
 "nbformat": 4,
 "nbformat_minor": 5
}
