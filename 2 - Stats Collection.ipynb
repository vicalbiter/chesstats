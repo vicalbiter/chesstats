{
 "cells": [
  {
   "cell_type": "code",
   "execution_count": 1,
   "id": "e974e1e2",
   "metadata": {},
   "outputs": [],
   "source": [
    "import nest_asyncio\n",
    "nest_asyncio.apply()"
   ]
  },
  {
   "cell_type": "code",
   "execution_count": 17,
   "id": "0a97012d",
   "metadata": {},
   "outputs": [],
   "source": [
    "%run collect.py"
   ]
  },
  {
   "cell_type": "code",
   "execution_count": 3,
   "id": "ad802a0a",
   "metadata": {},
   "outputs": [],
   "source": [
    "members = get_list_of_club_members('chess-school')"
   ]
  },
  {
   "cell_type": "code",
   "execution_count": 4,
   "id": "1e16784a",
   "metadata": {},
   "outputs": [],
   "source": [
    "def divide_chunks(l, n):\n",
    "    for i in range(0, len(l), n):\n",
    "        yield l[i : i + n]"
   ]
  },
  {
   "cell_type": "code",
   "execution_count": 5,
   "id": "38f65fec",
   "metadata": {},
   "outputs": [],
   "source": [
    "import numpy as np\n",
    "indices = np.arange(0, len(members))\n",
    "batches = list(divide_chunks(indices, 1000))"
   ]
  },
  {
   "cell_type": "code",
   "execution_count": 7,
   "id": "09d58b11",
   "metadata": {},
   "outputs": [
    {
     "data": {
      "text/plain": [
       "46000"
      ]
     },
     "execution_count": 7,
     "metadata": {},
     "output_type": "execute_result"
    }
   ],
   "source": [
    "batches[46][0]"
   ]
  },
  {
   "cell_type": "markdown",
   "id": "b6fa356f",
   "metadata": {},
   "source": [
    "### Users Rating Database"
   ]
  },
  {
   "cell_type": "code",
   "execution_count": 8,
   "id": "318e7756",
   "metadata": {
    "scrolled": false
   },
   "outputs": [
    {
     "name": "stdout",
     "output_type": "stream",
     "text": [
      "Batch: 1 of 28\n",
      "Progress: 999 of 999 users fetched\n",
      "---\n",
      "Batch: 2 of 28\n",
      "Progress: 999 of 999 users fetched\n",
      "---\n",
      "Batch: 3 of 28\n",
      "Progress: 999 of 999 users fetched\n",
      "---\n",
      "Batch: 4 of 28\n",
      "Progress: 999 of 999 users fetched\n",
      "---\n",
      "Batch: 5 of 28\n",
      "Progress: 999 of 999 users fetched\n",
      "---\n",
      "Batch: 6 of 28\n",
      "Progress: 999 of 999 users fetched\n",
      "---\n",
      "Batch: 7 of 28\n",
      "Progress: 999 of 999 users fetched\n",
      "---\n",
      "Batch: 8 of 28\n",
      "Progress: 999 of 999 users fetched\n",
      "---\n",
      "Batch: 9 of 28\n",
      "Progress: 999 of 999 users fetched\n",
      "---\n",
      "Batch: 10 of 28\n",
      "Progress: 999 of 999 users fetched\n",
      "---\n",
      "Batch: 11 of 28\n",
      "Progress: 999 of 999 users fetched\n",
      "---\n",
      "Batch: 12 of 28\n",
      "Progress: 999 of 999 users fetched\n",
      "---\n",
      "Batch: 13 of 28\n",
      "Progress: 999 of 999 users fetched\n",
      "---\n",
      "Batch: 14 of 28\n",
      "Progress: 999 of 999 users fetched\n",
      "---\n",
      "Batch: 15 of 28\n",
      "Progress: 999 of 999 users fetched\n",
      "---\n",
      "Batch: 16 of 28\n",
      "Progress: 999 of 999 users fetched\n",
      "---\n",
      "Batch: 17 of 28\n",
      "Progress: 999 of 999 users fetched\n",
      "---\n",
      "Batch: 18 of 28\n",
      "Progress: 999 of 999 users fetched\n",
      "---\n",
      "Batch: 19 of 28\n",
      "Progress: 999 of 999 users fetched\n",
      "---\n",
      "Batch: 20 of 28\n",
      "Progress: 999 of 999 users fetched\n",
      "---\n",
      "Batch: 21 of 28\n",
      "Progress: 999 of 999 users fetched\n",
      "---\n",
      "Batch: 22 of 28\n",
      "Progress: 999 of 999 users fetched\n",
      "---\n",
      "Batch: 23 of 28\n",
      "Progress: 999 of 999 users fetched\n",
      "---\n",
      "Batch: 24 of 28\n",
      "Progress: 999 of 999 users fetched\n",
      "---\n",
      "Batch: 25 of 28\n",
      "Progress: 999 of 999 users fetched\n",
      "---\n",
      "Batch: 26 of 28\n",
      "Progress: 999 of 999 users fetched\n",
      "---\n",
      "Batch: 27 of 28\n",
      "Progress: 999 of 999 users fetched\n",
      "---\n",
      "Batch: 28 of 28\n",
      "Progress: 713 of 713 users fetched\n",
      "---\n"
     ]
    }
   ],
   "source": [
    "import json\n",
    "\n",
    "i = 1\n",
    "for batch in batches[26:]:\n",
    "    print(\"Batch: %d of %d\" %(i, len(batches[26:])))\n",
    "    \n",
    "    idx_start = batch[0]\n",
    "    idx_finish = batch[len(batch) - 1]\n",
    "    #print((idx_start, idx_finish))\n",
    "    \n",
    "    members_stats = get_club_members_stats(members[idx_start:idx_finish])\n",
    "    \n",
    "    filename = 'stats_db/members_stats_chess-school_' + str(idx_start) + '_' + str(idx_finish) + '.txt'\n",
    "    #print(filename)\n",
    "    with open(filename, 'w') as outfile:\n",
    "        json.dump(members_stats, outfile)\n",
    "                  \n",
    "    i += 1"
   ]
  },
  {
   "cell_type": "markdown",
   "id": "f4008099",
   "metadata": {},
   "source": [
    "### Users Games Database"
   ]
  },
  {
   "cell_type": "code",
   "execution_count": 18,
   "id": "88a7269e",
   "metadata": {},
   "outputs": [
    {
     "name": "stdout",
     "output_type": "stream",
     "text": [
      "Batch: 1 of 8\n",
      "Error retrieving user users fetched\n",
      "Progress: 999 of 1000 users fetched\n",
      "---\n",
      "Batch: 2 of 8\n",
      "Progress: 999 of 1000 users fetched\n",
      "---\n",
      "Batch: 3 of 8\n",
      "Progress: 999 of 1000 users fetched\n",
      "---\n",
      "Batch: 4 of 8\n",
      "Progress: 999 of 1000 users fetched\n",
      "---\n",
      "Batch: 5 of 8\n",
      "Progress: 999 of 1000 users fetched\n",
      "---\n",
      "Batch: 6 of 8\n",
      "Progress: 999 of 1000 users fetched\n",
      "---\n",
      "Batch: 7 of 8\n",
      "Progress: 999 of 1000 users fetched\n",
      "---\n",
      "Batch: 8 of 8\n",
      "Progress: 789 of 790 users fetched\n",
      "---\n"
     ]
    }
   ],
   "source": [
    "import json\n",
    "\n",
    "i = 1\n",
    "for batch in batches[46:]:\n",
    "    print(\"Batch: %d of %d\" %(i, len(batches[46:])))\n",
    "    \n",
    "    idx_start = batch[0]\n",
    "    idx_finish = batch[len(batch) - 1]\n",
    "    #print((idx_start, idx_finish))\n",
    "    \n",
    "    members_games = get_club_members_monthly_games(members[idx_start:idx_finish], '2021', '08')\n",
    "    \n",
    "    filename = 'games_db/members_games_chess-school_' + str(idx_start) + '_' + str(idx_finish) + '.txt'\n",
    "    #print(filename)\n",
    "    with open(filename, 'w') as outfile:\n",
    "        json.dump(members_games, outfile)\n",
    "                  \n",
    "    i += 1"
   ]
  },
  {
   "cell_type": "code",
   "execution_count": null,
   "id": "67e1efd4",
   "metadata": {},
   "outputs": [],
   "source": []
  }
 ],
 "metadata": {
  "kernelspec": {
   "display_name": "Python 3 (ipykernel)",
   "language": "python",
   "name": "python3"
  },
  "language_info": {
   "codemirror_mode": {
    "name": "ipython",
    "version": 3
   },
   "file_extension": ".py",
   "mimetype": "text/x-python",
   "name": "python",
   "nbconvert_exporter": "python",
   "pygments_lexer": "ipython3",
   "version": "3.9.7"
  }
 },
 "nbformat": 4,
 "nbformat_minor": 5
}
