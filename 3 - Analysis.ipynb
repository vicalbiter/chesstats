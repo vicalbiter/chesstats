{
 "cells": [
  {
   "cell_type": "code",
   "execution_count": 126,
   "id": "106016c2",
   "metadata": {},
   "outputs": [],
   "source": [
    "import pandas as pd"
   ]
  },
  {
   "cell_type": "code",
   "execution_count": 131,
   "id": "d0532bd1",
   "metadata": {},
   "outputs": [],
   "source": [
    "games = pd.read_csv('csv_db/sparse_games_db.csv', index_col=\"id\")"
   ]
  },
  {
   "cell_type": "code",
   "execution_count": 132,
   "id": "17f9ec48",
   "metadata": {},
   "outputs": [
    {
     "data": {
      "text/html": [
       "<div>\n",
       "<style scoped>\n",
       "    .dataframe tbody tr th:only-of-type {\n",
       "        vertical-align: middle;\n",
       "    }\n",
       "\n",
       "    .dataframe tbody tr th {\n",
       "        vertical-align: top;\n",
       "    }\n",
       "\n",
       "    .dataframe thead th {\n",
       "        text-align: right;\n",
       "    }\n",
       "</style>\n",
       "<table border=\"1\" class=\"dataframe\">\n",
       "  <thead>\n",
       "    <tr style=\"text-align: right;\">\n",
       "      <th></th>\n",
       "      <th>time_class</th>\n",
       "      <th>time_control</th>\n",
       "      <th>rules</th>\n",
       "      <th>white_rating</th>\n",
       "      <th>black_rating</th>\n",
       "      <th>white_user</th>\n",
       "      <th>black_user</th>\n",
       "      <th>result</th>\n",
       "      <th>ECO</th>\n",
       "      <th>moves</th>\n",
       "    </tr>\n",
       "    <tr>\n",
       "      <th>id</th>\n",
       "      <th></th>\n",
       "      <th></th>\n",
       "      <th></th>\n",
       "      <th></th>\n",
       "      <th></th>\n",
       "      <th></th>\n",
       "      <th></th>\n",
       "      <th></th>\n",
       "      <th></th>\n",
       "      <th></th>\n",
       "    </tr>\n",
       "  </thead>\n",
       "  <tbody>\n",
       "    <tr>\n",
       "      <th>340381275</th>\n",
       "      <td>daily</td>\n",
       "      <td>1/432000</td>\n",
       "      <td>chess</td>\n",
       "      <td>1519</td>\n",
       "      <td>1370</td>\n",
       "      <td>-Donovan-</td>\n",
       "      <td>Steelman420</td>\n",
       "      <td>1-0</td>\n",
       "      <td>B20</td>\n",
       "      <td>['e2e4', 'c7c5', 'f1c4', 'd7d6', 'g1f3', 'a7a6...</td>\n",
       "    </tr>\n",
       "    <tr>\n",
       "      <th>351272929</th>\n",
       "      <td>daily</td>\n",
       "      <td>1/432000</td>\n",
       "      <td>chess</td>\n",
       "      <td>1399</td>\n",
       "      <td>1499</td>\n",
       "      <td>Steelman420</td>\n",
       "      <td>-Donovan-</td>\n",
       "      <td>1-0</td>\n",
       "      <td>D10</td>\n",
       "      <td>['d2d4', 'd7d5', 'c2c4', 'c7c6', 'd1d2', 'g8f6...</td>\n",
       "    </tr>\n",
       "    <tr>\n",
       "      <th>21703210749</th>\n",
       "      <td>blitz</td>\n",
       "      <td>300</td>\n",
       "      <td>chess</td>\n",
       "      <td>1494</td>\n",
       "      <td>1611</td>\n",
       "      <td>SUPERLIFTER</td>\n",
       "      <td>0-alexiskenyi-0</td>\n",
       "      <td>0-1</td>\n",
       "      <td>D10</td>\n",
       "      <td>['d2d4', 'd7d5', 'c2c4', 'c7c6', 'b1c3', 'g8f6...</td>\n",
       "    </tr>\n",
       "    <tr>\n",
       "      <th>22312204895</th>\n",
       "      <td>blitz</td>\n",
       "      <td>300</td>\n",
       "      <td>chess</td>\n",
       "      <td>1621</td>\n",
       "      <td>1581</td>\n",
       "      <td>Brule70</td>\n",
       "      <td>0-alexiskenyi-0</td>\n",
       "      <td>1-0</td>\n",
       "      <td>D00</td>\n",
       "      <td>['d2d4', 'd7d5', 'e2e3', 'b8c6', 'c2c4', 'e7e6...</td>\n",
       "    </tr>\n",
       "    <tr>\n",
       "      <th>22521061205</th>\n",
       "      <td>blitz</td>\n",
       "      <td>300</td>\n",
       "      <td>chess</td>\n",
       "      <td>1617</td>\n",
       "      <td>1668</td>\n",
       "      <td>0-alexiskenyi-0</td>\n",
       "      <td>melcorodel</td>\n",
       "      <td>1-0</td>\n",
       "      <td>B30</td>\n",
       "      <td>['e2e4', 'c7c5', 'g1f3', 'b8c6', 'f1b5', 'e7e6...</td>\n",
       "    </tr>\n",
       "  </tbody>\n",
       "</table>\n",
       "</div>"
      ],
      "text/plain": [
       "            time_class time_control  rules  white_rating  black_rating  \\\n",
       "id                                                                       \n",
       "340381275        daily     1/432000  chess          1519          1370   \n",
       "351272929        daily     1/432000  chess          1399          1499   \n",
       "21703210749      blitz          300  chess          1494          1611   \n",
       "22312204895      blitz          300  chess          1621          1581   \n",
       "22521061205      blitz          300  chess          1617          1668   \n",
       "\n",
       "                  white_user       black_user result  ECO  \\\n",
       "id                                                          \n",
       "340381275          -Donovan-      Steelman420    1-0  B20   \n",
       "351272929        Steelman420        -Donovan-    1-0  D10   \n",
       "21703210749      SUPERLIFTER  0-alexiskenyi-0    0-1  D10   \n",
       "22312204895          Brule70  0-alexiskenyi-0    1-0  D00   \n",
       "22521061205  0-alexiskenyi-0       melcorodel    1-0  B30   \n",
       "\n",
       "                                                         moves  \n",
       "id                                                              \n",
       "340381275    ['e2e4', 'c7c5', 'f1c4', 'd7d6', 'g1f3', 'a7a6...  \n",
       "351272929    ['d2d4', 'd7d5', 'c2c4', 'c7c6', 'd1d2', 'g8f6...  \n",
       "21703210749  ['d2d4', 'd7d5', 'c2c4', 'c7c6', 'b1c3', 'g8f6...  \n",
       "22312204895  ['d2d4', 'd7d5', 'e2e3', 'b8c6', 'c2c4', 'e7e6...  \n",
       "22521061205  ['e2e4', 'c7c5', 'g1f3', 'b8c6', 'f1b5', 'e7e6...  "
      ]
     },
     "execution_count": 132,
     "metadata": {},
     "output_type": "execute_result"
    }
   ],
   "source": [
    "games.head()"
   ]
  },
  {
   "cell_type": "code",
   "execution_count": 133,
   "id": "c3621cd5",
   "metadata": {},
   "outputs": [
    {
     "data": {
      "text/plain": [
       "rapid     46109\n",
       "blitz     32815\n",
       "bullet    13070\n",
       "daily      9333\n",
       "Name: time_class, dtype: int64"
      ]
     },
     "execution_count": 133,
     "metadata": {},
     "output_type": "execute_result"
    }
   ],
   "source": [
    "games[\"time_class\"].value_counts()"
   ]
  },
  {
   "cell_type": "code",
   "execution_count": 135,
   "id": "917cad05",
   "metadata": {},
   "outputs": [
    {
     "data": {
      "text/plain": [
       "D00    1162\n",
       "A00    1062\n",
       "B01    1015\n",
       "C20    1006\n",
       "A40     892\n",
       "       ... \n",
       "E24       1\n",
       "E72       1\n",
       "C69       1\n",
       "B16       1\n",
       "A27       1\n",
       "Name: ECO, Length: 226, dtype: int64"
      ]
     },
     "execution_count": 135,
     "metadata": {},
     "output_type": "execute_result"
    }
   ],
   "source": [
    "low = 1000\n",
    "high = 1200\n",
    "games[(games[\"white_rating\"] > low) & (games[\"white_rating\"] < high)][\"ECO\"].value_counts()"
   ]
  }
 ],
 "metadata": {
  "kernelspec": {
   "display_name": "Python 3 (ipykernel)",
   "language": "python",
   "name": "python3"
  },
  "language_info": {
   "codemirror_mode": {
    "name": "ipython",
    "version": 3
   },
   "file_extension": ".py",
   "mimetype": "text/x-python",
   "name": "python",
   "nbconvert_exporter": "python",
   "pygments_lexer": "ipython3",
   "version": "3.9.7"
  }
 },
 "nbformat": 4,
 "nbformat_minor": 5
}
